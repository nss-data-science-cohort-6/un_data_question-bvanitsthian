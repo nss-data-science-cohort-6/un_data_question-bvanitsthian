{
 "cells": [
  {
   "cell_type": "code",
   "execution_count": 221,
   "id": "7648b3a0",
   "metadata": {},
   "outputs": [],
   "source": [
    "import pandas as pd\n",
    "import numpy as np\n",
    "import matplotlib.pyplot as plt\n",
    "import seaborn as sns"
   ]
  },
  {
   "cell_type": "markdown",
   "id": "62ce110f",
   "metadata": {},
   "source": [
    "1.\tDownload the Gross Domestic Product (GDP) per capita dataset from [http://data.un.org/Data.aspx?d=WDI&f=Indicator_Code%3aNY.GDP.PCAP.PP.KD](http://data.un.org/Data.aspx?d=WDI&f=Indicator_Code%3aNY.GDP.PCAP.PP.KD). Rename it to gdp_per_capita.csv and place it in the `data` folder of your project repository.\n",
    "\n",
    "2. Create a Jupyter Notebook in the `notebooks` folder and name it `UN_Data_Exploration`.\n",
    "    *  You are likely to get errors along the way. When you do, read the errors to try to understand what is happening and how to correct it.\n",
    "    * Use markdown cells to record your answers to any questions asked in this exercise. On the menu bar, you can toggle the cell type from 'Code' to 'Markdown'. [Here](https://www.markdownguide.org/cheat-sheet/) is a link to a cheat sheet showing the basics of styling text using Markdown.\n",
    "\n",
    "3.\tIn the first cell of your notebook, import the required packages with their customary aliases as follows:\n",
    "\n",
    "    `import pandas as pd`   \n",
    "    `import numpy as np`  \n",
    "    `import matplotlib.pyplot as plt`  \n",
    "    `import seaborn as sns`\n",
    "    \n",
    "    Keep all imports in this cell at the top of your notebook.\n",
    "    \n",
    "4.\tUsing the pandas `read_csv()` function, read the GDP dataset into your notebook as a DataFrame called `gdp_df`. \n",
    "    * Take a look at the first 10 rows. \n",
    "    * Look at the last 5 rows. Do you see a problem?\n",
    "    * Redo the read_csv() call to correct this issue - **do not** modify the original csv file.\n",
    "    "
   ]
  },
  {
   "cell_type": "code",
   "execution_count": 222,
   "id": "836b8d7b",
   "metadata": {},
   "outputs": [],
   "source": [
    "gdp_df = pd.read_csv('../data/gdp_per_capita.csv',\n",
    "                    skipfooter = 2,\n",
    "                    engine='python')"
   ]
  },
  {
   "cell_type": "code",
   "execution_count": 223,
   "id": "52820357",
   "metadata": {},
   "outputs": [],
   "source": [
    "gdp_df = pd.read_csv('../data/gdp_per_capita.csv',\n",
    "                    nrows = 6868)"
   ]
  },
  {
   "cell_type": "code",
   "execution_count": 224,
   "id": "f5194b12",
   "metadata": {},
   "outputs": [
    {
     "name": "stdout",
     "output_type": "stream",
     "text": [
      "<class 'pandas.core.frame.DataFrame'>\n",
      "RangeIndex: 6868 entries, 0 to 6867\n",
      "Data columns (total 4 columns):\n",
      " #   Column           Non-Null Count  Dtype  \n",
      "---  ------           --------------  -----  \n",
      " 0   Country or Area  6868 non-null   object \n",
      " 1   Year             6868 non-null   int64  \n",
      " 2   Value            6868 non-null   float64\n",
      " 3   Value Footnotes  1 non-null      float64\n",
      "dtypes: float64(2), int64(1), object(1)\n",
      "memory usage: 214.8+ KB\n"
     ]
    }
   ],
   "source": [
    "gdp_df.info()"
   ]
  },
  {
   "cell_type": "code",
   "execution_count": 225,
   "id": "b8d4fe30",
   "metadata": {},
   "outputs": [
    {
     "data": {
      "text/html": [
       "<div>\n",
       "<style scoped>\n",
       "    .dataframe tbody tr th:only-of-type {\n",
       "        vertical-align: middle;\n",
       "    }\n",
       "\n",
       "    .dataframe tbody tr th {\n",
       "        vertical-align: top;\n",
       "    }\n",
       "\n",
       "    .dataframe thead th {\n",
       "        text-align: right;\n",
       "    }\n",
       "</style>\n",
       "<table border=\"1\" class=\"dataframe\">\n",
       "  <thead>\n",
       "    <tr style=\"text-align: right;\">\n",
       "      <th></th>\n",
       "      <th>Country or Area</th>\n",
       "      <th>Year</th>\n",
       "      <th>Value</th>\n",
       "      <th>Value Footnotes</th>\n",
       "    </tr>\n",
       "  </thead>\n",
       "  <tbody>\n",
       "    <tr>\n",
       "      <th>6863</th>\n",
       "      <td>Zimbabwe</td>\n",
       "      <td>1994</td>\n",
       "      <td>3263.934978</td>\n",
       "      <td>NaN</td>\n",
       "    </tr>\n",
       "    <tr>\n",
       "      <th>6864</th>\n",
       "      <td>Zimbabwe</td>\n",
       "      <td>1993</td>\n",
       "      <td>3033.504852</td>\n",
       "      <td>NaN</td>\n",
       "    </tr>\n",
       "    <tr>\n",
       "      <th>6865</th>\n",
       "      <td>Zimbabwe</td>\n",
       "      <td>1992</td>\n",
       "      <td>3054.889178</td>\n",
       "      <td>NaN</td>\n",
       "    </tr>\n",
       "    <tr>\n",
       "      <th>6866</th>\n",
       "      <td>Zimbabwe</td>\n",
       "      <td>1991</td>\n",
       "      <td>3426.598094</td>\n",
       "      <td>NaN</td>\n",
       "    </tr>\n",
       "    <tr>\n",
       "      <th>6867</th>\n",
       "      <td>Zimbabwe</td>\n",
       "      <td>1990</td>\n",
       "      <td>3324.348171</td>\n",
       "      <td>NaN</td>\n",
       "    </tr>\n",
       "  </tbody>\n",
       "</table>\n",
       "</div>"
      ],
      "text/plain": [
       "     Country or Area  Year        Value  Value Footnotes\n",
       "6863        Zimbabwe  1994  3263.934978              NaN\n",
       "6864        Zimbabwe  1993  3033.504852              NaN\n",
       "6865        Zimbabwe  1992  3054.889178              NaN\n",
       "6866        Zimbabwe  1991  3426.598094              NaN\n",
       "6867        Zimbabwe  1990  3324.348171              NaN"
      ]
     },
     "execution_count": 225,
     "metadata": {},
     "output_type": "execute_result"
    }
   ],
   "source": [
    "gdp_df.tail()"
   ]
  },
  {
   "cell_type": "code",
   "execution_count": 226,
   "id": "43fab4b2",
   "metadata": {},
   "outputs": [],
   "source": [
    "gdp_df = pd.read_csv('../data/gdp_per_capita.csv')\n",
    "\n",
    "nrows = gdp_df.loc[~gdp_df['Value'].isna()].shape[0]\n",
    "\n",
    "gdp_df = pd.read_csv('../data/gdp_per_capita.csv',\n",
    "            nrows = nrows)"
   ]
  },
  {
   "cell_type": "markdown",
   "id": "ce735eb9",
   "metadata": {},
   "source": [
    "5. Drop the 'Value Footnotes' column, and rename the remaining columns to 'Country', 'Year', and 'GDP_Per_Capita'."
   ]
  },
  {
   "cell_type": "code",
   "execution_count": 227,
   "id": "b6117d4f",
   "metadata": {},
   "outputs": [],
   "source": [
    "gdp_df = (\n",
    "    pd.read_csv('../data/gdp_per_capita.csv')\n",
    "    .drop([6868, 6869])\n",
    "    .drop(columns = ['Value Footnotes'])\n",
    "    .rename(columns = {\n",
    "        'Country or Area': 'Country',\n",
    "        'Value': 'GDP_Per_Capita'\n",
    "    })\n",
    ")"
   ]
  },
  {
   "cell_type": "code",
   "execution_count": 228,
   "id": "1e4d0b76",
   "metadata": {},
   "outputs": [
    {
     "data": {
      "text/html": [
       "<div>\n",
       "<style scoped>\n",
       "    .dataframe tbody tr th:only-of-type {\n",
       "        vertical-align: middle;\n",
       "    }\n",
       "\n",
       "    .dataframe tbody tr th {\n",
       "        vertical-align: top;\n",
       "    }\n",
       "\n",
       "    .dataframe thead th {\n",
       "        text-align: right;\n",
       "    }\n",
       "</style>\n",
       "<table border=\"1\" class=\"dataframe\">\n",
       "  <thead>\n",
       "    <tr style=\"text-align: right;\">\n",
       "      <th></th>\n",
       "      <th>Country</th>\n",
       "      <th>Year</th>\n",
       "      <th>GDP_Per_Capita</th>\n",
       "    </tr>\n",
       "  </thead>\n",
       "  <tbody>\n",
       "    <tr>\n",
       "      <th>0</th>\n",
       "      <td>Afghanistan</td>\n",
       "      <td>2019</td>\n",
       "      <td>2065.036398</td>\n",
       "    </tr>\n",
       "    <tr>\n",
       "      <th>1</th>\n",
       "      <td>Afghanistan</td>\n",
       "      <td>2018</td>\n",
       "      <td>2033.779002</td>\n",
       "    </tr>\n",
       "    <tr>\n",
       "      <th>2</th>\n",
       "      <td>Afghanistan</td>\n",
       "      <td>2017</td>\n",
       "      <td>2058.383832</td>\n",
       "    </tr>\n",
       "    <tr>\n",
       "      <th>3</th>\n",
       "      <td>Afghanistan</td>\n",
       "      <td>2016</td>\n",
       "      <td>2057.062164</td>\n",
       "    </tr>\n",
       "    <tr>\n",
       "      <th>4</th>\n",
       "      <td>Afghanistan</td>\n",
       "      <td>2015</td>\n",
       "      <td>2068.265904</td>\n",
       "    </tr>\n",
       "    <tr>\n",
       "      <th>...</th>\n",
       "      <td>...</td>\n",
       "      <td>...</td>\n",
       "      <td>...</td>\n",
       "    </tr>\n",
       "    <tr>\n",
       "      <th>6863</th>\n",
       "      <td>Zimbabwe</td>\n",
       "      <td>1994</td>\n",
       "      <td>3263.934978</td>\n",
       "    </tr>\n",
       "    <tr>\n",
       "      <th>6864</th>\n",
       "      <td>Zimbabwe</td>\n",
       "      <td>1993</td>\n",
       "      <td>3033.504852</td>\n",
       "    </tr>\n",
       "    <tr>\n",
       "      <th>6865</th>\n",
       "      <td>Zimbabwe</td>\n",
       "      <td>1992</td>\n",
       "      <td>3054.889178</td>\n",
       "    </tr>\n",
       "    <tr>\n",
       "      <th>6866</th>\n",
       "      <td>Zimbabwe</td>\n",
       "      <td>1991</td>\n",
       "      <td>3426.598094</td>\n",
       "    </tr>\n",
       "    <tr>\n",
       "      <th>6867</th>\n",
       "      <td>Zimbabwe</td>\n",
       "      <td>1990</td>\n",
       "      <td>3324.348171</td>\n",
       "    </tr>\n",
       "  </tbody>\n",
       "</table>\n",
       "<p>6868 rows × 3 columns</p>\n",
       "</div>"
      ],
      "text/plain": [
       "          Country  Year  GDP_Per_Capita\n",
       "0     Afghanistan  2019     2065.036398\n",
       "1     Afghanistan  2018     2033.779002\n",
       "2     Afghanistan  2017     2058.383832\n",
       "3     Afghanistan  2016     2057.062164\n",
       "4     Afghanistan  2015     2068.265904\n",
       "...           ...   ...             ...\n",
       "6863     Zimbabwe  1994     3263.934978\n",
       "6864     Zimbabwe  1993     3033.504852\n",
       "6865     Zimbabwe  1992     3054.889178\n",
       "6866     Zimbabwe  1991     3426.598094\n",
       "6867     Zimbabwe  1990     3324.348171\n",
       "\n",
       "[6868 rows x 3 columns]"
      ]
     },
     "execution_count": 228,
     "metadata": {},
     "output_type": "execute_result"
    }
   ],
   "source": [
    "gdp_df"
   ]
  },
  {
   "cell_type": "markdown",
   "id": "353cf2b1",
   "metadata": {},
   "source": [
    "6. How many rows and columns does gdp_df have? What are the data types of its columns? If any of the columns are not the expected types, figure out why and fix it."
   ]
  },
  {
   "cell_type": "code",
   "execution_count": 229,
   "id": "e77c243a",
   "metadata": {},
   "outputs": [
    {
     "data": {
      "text/plain": [
       "(6868, 3)"
      ]
     },
     "execution_count": 229,
     "metadata": {},
     "output_type": "execute_result"
    }
   ],
   "source": [
    "gdp_df.shape"
   ]
  },
  {
   "cell_type": "code",
   "execution_count": 230,
   "id": "431a8e3a",
   "metadata": {},
   "outputs": [
    {
     "name": "stdout",
     "output_type": "stream",
     "text": [
      "<class 'pandas.core.frame.DataFrame'>\n",
      "RangeIndex: 6868 entries, 0 to 6867\n",
      "Data columns (total 3 columns):\n",
      " #   Column          Non-Null Count  Dtype  \n",
      "---  ------          --------------  -----  \n",
      " 0   Country         6868 non-null   object \n",
      " 1   Year            6868 non-null   object \n",
      " 2   GDP_Per_Capita  6868 non-null   float64\n",
      "dtypes: float64(1), object(2)\n",
      "memory usage: 161.1+ KB\n"
     ]
    }
   ],
   "source": [
    "gdp_df.info()"
   ]
  },
  {
   "cell_type": "code",
   "execution_count": 231,
   "id": "3b02203d",
   "metadata": {},
   "outputs": [],
   "source": [
    "gdp_df['Year'] = gdp_df['Year'].astype(int)"
   ]
  },
  {
   "cell_type": "markdown",
   "id": "69fac47c",
   "metadata": {},
   "source": [
    "7. Which years are represented in this dataset? Take a look at the number of observations per year. What do you notice?"
   ]
  },
  {
   "cell_type": "code",
   "execution_count": 232,
   "id": "5cc3ba7a",
   "metadata": {},
   "outputs": [
    {
     "data": {
      "text/plain": [
       "[1990,\n",
       " 1991,\n",
       " 1992,\n",
       " 1993,\n",
       " 1994,\n",
       " 1995,\n",
       " 1996,\n",
       " 1997,\n",
       " 1998,\n",
       " 1999,\n",
       " 2000,\n",
       " 2001,\n",
       " 2002,\n",
       " 2003,\n",
       " 2004,\n",
       " 2005,\n",
       " 2006,\n",
       " 2007,\n",
       " 2008,\n",
       " 2009,\n",
       " 2010,\n",
       " 2011,\n",
       " 2012,\n",
       " 2013,\n",
       " 2014,\n",
       " 2015,\n",
       " 2016,\n",
       " 2017,\n",
       " 2018,\n",
       " 2019]"
      ]
     },
     "execution_count": 232,
     "metadata": {},
     "output_type": "execute_result"
    }
   ],
   "source": [
    "sorted(gdp_df['Year'].unique())"
   ]
  },
  {
   "cell_type": "code",
   "execution_count": 233,
   "id": "12ff02a4",
   "metadata": {},
   "outputs": [
    {
     "data": {
      "text/plain": [
       "1990    207\n",
       "1991    208\n",
       "1992    209\n",
       "1993    212\n",
       "1994    214\n",
       "1995    221\n",
       "1996    221\n",
       "1997    223\n",
       "1998    223\n",
       "1999    224\n",
       "2000    231\n",
       "2001    232\n",
       "2002    233\n",
       "2003    233\n",
       "2004    234\n",
       "2005    234\n",
       "2006    235\n",
       "2007    235\n",
       "2008    235\n",
       "2009    236\n",
       "2010    236\n",
       "2011    237\n",
       "2012    237\n",
       "2013    238\n",
       "2014    238\n",
       "2015    238\n",
       "2016    238\n",
       "2017    238\n",
       "2018    237\n",
       "2019    231\n",
       "Name: Year, dtype: int64"
      ]
     },
     "execution_count": 233,
     "metadata": {},
     "output_type": "execute_result"
    }
   ],
   "source": [
    "gdp_df['Year'].value_counts().sort_index()"
   ]
  },
  {
   "cell_type": "code",
   "execution_count": 234,
   "id": "7abd79f5",
   "metadata": {},
   "outputs": [
    {
     "data": {
      "text/plain": [
       "Year\n",
       "1990    207\n",
       "1991    208\n",
       "1992    209\n",
       "1993    212\n",
       "1994    214\n",
       "1995    221\n",
       "1996    221\n",
       "1997    223\n",
       "1998    223\n",
       "1999    224\n",
       "2000    231\n",
       "2001    232\n",
       "2002    233\n",
       "2003    233\n",
       "2004    234\n",
       "2005    234\n",
       "2006    235\n",
       "2007    235\n",
       "2008    235\n",
       "2009    236\n",
       "2010    236\n",
       "2011    237\n",
       "2012    237\n",
       "2013    238\n",
       "2014    238\n",
       "2015    238\n",
       "2016    238\n",
       "2017    238\n",
       "2018    237\n",
       "2019    231\n",
       "Name: Year, dtype: int64"
      ]
     },
     "execution_count": 234,
     "metadata": {},
     "output_type": "execute_result"
    }
   ],
   "source": [
    "gdp_df.groupby(['Year'])['Year'].count()"
   ]
  },
  {
   "cell_type": "markdown",
   "id": "d7d540a8",
   "metadata": {},
   "source": [
    "8. How many countries are represented in this dataset? Which countries are least represented in the dataset? Why do you think these countries have so few observations?"
   ]
  },
  {
   "cell_type": "code",
   "execution_count": 235,
   "id": "7c7fdb20",
   "metadata": {},
   "outputs": [
    {
     "data": {
      "text/plain": [
       "array(['Afghanistan', 'Albania', 'Algeria', 'Angola',\n",
       "       'Antigua and Barbuda', 'Arab World', 'Argentina', 'Armenia',\n",
       "       'Aruba', 'Australia', 'Austria', 'Azerbaijan', 'Bahrain',\n",
       "       'Bangladesh', 'Barbados', 'Belarus', 'Belgium', 'Belize', 'Benin',\n",
       "       'Bermuda', 'Bhutan', 'Bolivia', 'Bosnia and Herzegovina',\n",
       "       'Botswana', 'Brazil', 'Brunei', 'Bulgaria', 'Burkina Faso',\n",
       "       'Burundi', \"CÃ´te d'Ivoire\", 'Cabo Verde', 'Cambodia', 'Cameroon',\n",
       "       'Canada', 'Caribbean small states', 'Cayman Islands',\n",
       "       'Central African Republic', 'Central Europe and the Baltics',\n",
       "       'Chad', 'Chile', 'China', 'Colombia', 'Comoros', 'Congo',\n",
       "       'Costa Rica', 'Croatia', 'CuraÃ§ao', 'Cyprus', 'Czech Republic',\n",
       "       'Dem. Rep. Congo', 'Denmark', 'Djibouti', 'Dominica',\n",
       "       'Dominican Republic', 'Early-demographic dividend',\n",
       "       'East Asia & Pacific',\n",
       "       'East Asia & Pacific (excluding high income)',\n",
       "       'East Asia & Pacific (IDA & IBRD)', 'Ecuador', 'Egypt',\n",
       "       'El Salvador', 'Equatorial Guinea', 'Estonia', 'Eswatini',\n",
       "       'Ethiopia', 'Euro area', 'Europe & Central Asia',\n",
       "       'Europe & Central Asia (excluding high income)',\n",
       "       'Europe & Central Asia (IDA & IBRD)', 'European Union', 'Fiji',\n",
       "       'Finland', 'France', 'Gabon', 'Georgia', 'Germany', 'Ghana',\n",
       "       'Greece', 'Grenada', 'Guatemala', 'Guinea', 'Guinea-Bissau',\n",
       "       'Guyana', 'Haiti', 'Heavily indebted poor countries (HIPC)',\n",
       "       'High income', 'Honduras', 'Hong Kong SAR, China', 'Hungary',\n",
       "       'IBRD only', 'Iceland', 'IDA & IBRD total', 'IDA blend',\n",
       "       'IDA only', 'IDA total', 'India', 'Indonesia', 'Iran', 'Iraq',\n",
       "       'Ireland', 'Israel', 'Italy', 'Jamaica', 'Japan', 'Jordan',\n",
       "       'Kazakhstan', 'Kenya', 'Kiribati', 'Korea', 'Kosovo', 'Kuwait',\n",
       "       'Kyrgyz Republic', 'Lao PDR', 'Late-demographic dividend',\n",
       "       'Latin America & Caribbean',\n",
       "       'Latin America & Caribbean (excluding high income)',\n",
       "       'Latin America & Caribbean (IDA & IBRD)', 'Latvia',\n",
       "       'Least developed countries: UN classification', 'Lebanon',\n",
       "       'Lesotho', 'Liberia', 'Libya', 'Lithuania', 'Low & middle income',\n",
       "       'Low income', 'Lower middle income', 'Luxembourg',\n",
       "       'Macao SAR, China', 'Madagascar', 'Malawi', 'Malaysia', 'Maldives',\n",
       "       'Mali', 'Malta', 'Marshall Islands', 'Mauritania', 'Mauritius',\n",
       "       'Mexico', 'Micronesia', 'Middle East & North Africa',\n",
       "       'Middle East & North Africa (excluding high income)',\n",
       "       'Middle East & North Africa (IDA & IBRD)', 'Middle income',\n",
       "       'Moldova', 'Mongolia', 'Montenegro', 'Morocco', 'Mozambique',\n",
       "       'Myanmar', 'Namibia', 'Nauru', 'Nepal', 'Netherlands',\n",
       "       'New Zealand', 'Nicaragua', 'Niger', 'Nigeria', 'North America',\n",
       "       'North Macedonia', 'Norway', 'OECD members', 'Oman',\n",
       "       'Other small states', 'Pacific island small states', 'Pakistan',\n",
       "       'Palau', 'Panama', 'Papua New Guinea', 'Paraguay', 'Peru',\n",
       "       'Philippines', 'Poland', 'Portugal', 'Post-demographic dividend',\n",
       "       'Pre-demographic dividend', 'Puerto Rico', 'Qatar', 'Romania',\n",
       "       'Russia', 'Rwanda', 'SÃ£o TomÃ© and Principe', 'Samoa',\n",
       "       'San Marino', 'Saudi Arabia', 'Senegal', 'Serbia', 'Seychelles',\n",
       "       'Sierra Leone', 'Singapore', 'Sint Maarten (Dutch part)',\n",
       "       'Slovak Republic', 'Slovenia', 'Small states', 'Solomon Islands',\n",
       "       'South Africa', 'South Asia', 'South Asia (IDA & IBRD)', 'Spain',\n",
       "       'Sri Lanka', 'St. Kitts and Nevis', 'St. Lucia',\n",
       "       'St. Vincent and the Grenadines', 'Sub-Saharan Africa',\n",
       "       'Sub-Saharan Africa (excluding high income)',\n",
       "       'Sub-Saharan Africa (IDA & IBRD)', 'Sudan', 'Suriname', 'Sweden',\n",
       "       'Switzerland', 'Tajikistan', 'Tanzania', 'Thailand', 'The Bahamas',\n",
       "       'The Gambia', 'Timor-Leste', 'Togo', 'Tonga',\n",
       "       'Trinidad and Tobago', 'Tunisia', 'Turkey', 'Turkmenistan',\n",
       "       'Turks and Caicos Islands', 'Tuvalu', 'Uganda', 'Ukraine',\n",
       "       'United Arab Emirates', 'United Kingdom', 'United States',\n",
       "       'Upper middle income', 'Uruguay', 'Uzbekistan', 'Vanuatu',\n",
       "       'Vietnam', 'West Bank and Gaza', 'World', 'Zambia', 'Zimbabwe'],\n",
       "      dtype=object)"
      ]
     },
     "execution_count": 235,
     "metadata": {},
     "output_type": "execute_result"
    }
   ],
   "source": [
    "gdp_df['Country'].unique()"
   ]
  },
  {
   "cell_type": "code",
   "execution_count": 236,
   "id": "aa28bdcd",
   "metadata": {},
   "outputs": [
    {
     "data": {
      "text/plain": [
       "238"
      ]
     },
     "execution_count": 236,
     "metadata": {},
     "output_type": "execute_result"
    }
   ],
   "source": [
    "gdp_df['Country'].nunique()"
   ]
  },
  {
   "cell_type": "code",
   "execution_count": 237,
   "id": "ba05076c",
   "metadata": {},
   "outputs": [
    {
     "data": {
      "text/plain": [
       "CuraÃ§ao                     20\n",
       "Qatar                        20\n",
       "Palau                        20\n",
       "SÃ£o TomÃ© and Principe      19\n",
       "Afghanistan                  18\n",
       "Nauru                        16\n",
       "Cayman Islands               13\n",
       "Sint Maarten (Dutch part)    10\n",
       "Turks and Caicos Islands      9\n",
       "Djibouti                      7\n",
       "Name: Country, dtype: int64"
      ]
     },
     "execution_count": 237,
     "metadata": {},
     "output_type": "execute_result"
    }
   ],
   "source": [
    "gdp_df['Country'].value_counts().tail(10)"
   ]
  },
  {
   "cell_type": "code",
   "execution_count": 238,
   "id": "9ff1ed36",
   "metadata": {},
   "outputs": [
    {
     "data": {
      "text/plain": [
       "SÃ£o TomÃ© and Principe      19\n",
       "Afghanistan                  18\n",
       "Nauru                        16\n",
       "Cayman Islands               13\n",
       "Sint Maarten (Dutch part)    10\n",
       "Turks and Caicos Islands      9\n",
       "Djibouti                      7\n",
       "Name: Country, dtype: int64"
      ]
     },
     "execution_count": 238,
     "metadata": {},
     "output_type": "execute_result"
    }
   ],
   "source": [
    "gdp_df['Country'].value_counts().loc[lambda x : x < 20] "
   ]
  },
  {
   "cell_type": "code",
   "execution_count": 239,
   "id": "43af0a7f",
   "metadata": {},
   "outputs": [
    {
     "data": {
      "text/plain": [
       "Lebanon          30\n",
       "Middle income    30\n",
       "Morocco          30\n",
       "Mozambique       30\n",
       "Myanmar          30\n",
       "Namibia          30\n",
       "Nepal            30\n",
       "Netherlands      30\n",
       "New Zealand      30\n",
       "Nicaragua        30\n",
       "Name: Country, dtype: int64"
      ]
     },
     "execution_count": 239,
     "metadata": {},
     "output_type": "execute_result"
    }
   ],
   "source": [
    "gdp_df['Country'].value_counts().head(10)"
   ]
  },
  {
   "cell_type": "markdown",
   "id": "b2e7a1b4",
   "metadata": {},
   "source": [
    "9. Create a new dataframe by subsetting `gdp_df` to just the year 2014. Call this new dataframe `gdp_2014`."
   ]
  },
  {
   "cell_type": "code",
   "execution_count": 240,
   "id": "ead62860",
   "metadata": {},
   "outputs": [],
   "source": [
    "gdp_2014 = gdp_df.loc[gdp_df['Year'] == 2014]"
   ]
  },
  {
   "cell_type": "markdown",
   "id": "3fd47ad9",
   "metadata": {},
   "source": [
    "10. Use `.describe()` to find the summary statistics for GDP per capita in 2014. "
   ]
  },
  {
   "cell_type": "code",
   "execution_count": 241,
   "id": "50161339",
   "metadata": {},
   "outputs": [
    {
     "data": {
      "text/plain": [
       "count       238.000000\n",
       "mean      19766.710348\n",
       "std       20983.869623\n",
       "min         822.610458\n",
       "25%        4753.110934\n",
       "50%       12209.385755\n",
       "75%       26803.610474\n",
       "max      156514.133850\n",
       "Name: GDP_Per_Capita, dtype: float64"
      ]
     },
     "execution_count": 241,
     "metadata": {},
     "output_type": "execute_result"
    }
   ],
   "source": [
    "gdp_2014['GDP_Per_Capita'].describe()"
   ]
  },
  {
   "cell_type": "markdown",
   "id": "b6fcfcd1",
   "metadata": {},
   "source": [
    "**Observations:**\n",
    "* Mean is higher than median. Maybe there are more high values or the distribution might be skewed. Possibly outliers. Possibly skewed to the right.\n",
    "* Mean is smaller than standard deviation -> Maybe skewed.\n",
    "* Max value is 6 or 7 standard deviations above average, so likely an outlier."
   ]
  },
  {
   "cell_type": "markdown",
   "id": "4c8eb95e",
   "metadata": {},
   "source": [
    "11. Create a histogram of GDP Per Capita numbers for 2014 (you may wish to adjust the number of bins for your histogram). How would you describe the shape of the distribution?"
   ]
  },
  {
   "cell_type": "code",
   "execution_count": 242,
   "id": "6b2de5a1",
   "metadata": {},
   "outputs": [
    {
     "data": {
      "image/png": "[encoded data removed]",
      "text/plain": [
       "<Figure size 640x480 with 1 Axes>"
      ]
     },
     "metadata": {},
     "output_type": "display_data"
    }
   ],
   "source": [
    "gdp_2014['GDP_Per_Capita'].plot(kind = 'hist', bins = 25);"
   ]
  },
  {
   "cell_type": "markdown",
   "id": "c9a74105",
   "metadata": {},
   "source": [
    "12. Find the top 5 counties and bottom 5 countries by GDP per capita in 2014."
   ]
  },
  {
   "cell_type": "code",
   "execution_count": 243,
   "id": "0c12d6a7",
   "metadata": {},
   "outputs": [
    {
     "data": {
      "text/html": [
       "<div>\n",
       "<style scoped>\n",
       "    .dataframe tbody tr th:only-of-type {\n",
       "        vertical-align: middle;\n",
       "    }\n",
       "\n",
       "    .dataframe tbody tr th {\n",
       "        vertical-align: top;\n",
       "    }\n",
       "\n",
       "    .dataframe thead th {\n",
       "        text-align: right;\n",
       "    }\n",
       "</style>\n",
       "<table border=\"1\" class=\"dataframe\">\n",
       "  <thead>\n",
       "    <tr style=\"text-align: right;\">\n",
       "      <th></th>\n",
       "      <th>Country</th>\n",
       "      <th>Year</th>\n",
       "      <th>GDP_Per_Capita</th>\n",
       "    </tr>\n",
       "  </thead>\n",
       "  <tbody>\n",
       "    <tr>\n",
       "      <th>1047</th>\n",
       "      <td>Central African Republic</td>\n",
       "      <td>2014</td>\n",
       "      <td>822.610458</td>\n",
       "    </tr>\n",
       "    <tr>\n",
       "      <th>827</th>\n",
       "      <td>Burundi</td>\n",
       "      <td>2014</td>\n",
       "      <td>886.235777</td>\n",
       "    </tr>\n",
       "    <tr>\n",
       "      <th>3781</th>\n",
       "      <td>Malawi</td>\n",
       "      <td>2014</td>\n",
       "      <td>1027.208496</td>\n",
       "    </tr>\n",
       "    <tr>\n",
       "      <th>1422</th>\n",
       "      <td>Dem. Rep. Congo</td>\n",
       "      <td>2014</td>\n",
       "      <td>1029.790785</td>\n",
       "    </tr>\n",
       "    <tr>\n",
       "      <th>4528</th>\n",
       "      <td>Niger</td>\n",
       "      <td>2014</td>\n",
       "      <td>1127.615541</td>\n",
       "    </tr>\n",
       "  </tbody>\n",
       "</table>\n",
       "</div>"
      ],
      "text/plain": [
       "                       Country  Year  GDP_Per_Capita\n",
       "1047  Central African Republic  2014      822.610458\n",
       "827                    Burundi  2014      886.235777\n",
       "3781                    Malawi  2014     1027.208496\n",
       "1422           Dem. Rep. Congo  2014     1029.790785\n",
       "4528                     Niger  2014     1127.615541"
      ]
     },
     "execution_count": 243,
     "metadata": {},
     "output_type": "execute_result"
    }
   ],
   "source": [
    "gdp_2014.sort_values('GDP_Per_Capita').head(5)"
   ]
  },
  {
   "cell_type": "code",
   "execution_count": 244,
   "id": "d1de334a",
   "metadata": {},
   "outputs": [
    {
     "data": {
      "text/html": [
       "<div>\n",
       "<style scoped>\n",
       "    .dataframe tbody tr th:only-of-type {\n",
       "        vertical-align: middle;\n",
       "    }\n",
       "\n",
       "    .dataframe tbody tr th {\n",
       "        vertical-align: top;\n",
       "    }\n",
       "\n",
       "    .dataframe thead th {\n",
       "        text-align: right;\n",
       "    }\n",
       "</style>\n",
       "<table border=\"1\" class=\"dataframe\">\n",
       "  <thead>\n",
       "    <tr style=\"text-align: right;\">\n",
       "      <th></th>\n",
       "      <th>Country</th>\n",
       "      <th>Year</th>\n",
       "      <th>GDP_Per_Capita</th>\n",
       "    </tr>\n",
       "  </thead>\n",
       "  <tbody>\n",
       "    <tr>\n",
       "      <th>3721</th>\n",
       "      <td>Macao SAR, China</td>\n",
       "      <td>2014</td>\n",
       "      <td>156514.133850</td>\n",
       "    </tr>\n",
       "    <tr>\n",
       "      <th>3691</th>\n",
       "      <td>Luxembourg</td>\n",
       "      <td>2014</td>\n",
       "      <td>108760.916030</td>\n",
       "    </tr>\n",
       "    <tr>\n",
       "      <th>5138</th>\n",
       "      <td>Qatar</td>\n",
       "      <td>2014</td>\n",
       "      <td>95578.416973</td>\n",
       "    </tr>\n",
       "    <tr>\n",
       "      <th>5464</th>\n",
       "      <td>Singapore</td>\n",
       "      <td>2014</td>\n",
       "      <td>87808.663157</td>\n",
       "    </tr>\n",
       "    <tr>\n",
       "      <th>561</th>\n",
       "      <td>Bermuda</td>\n",
       "      <td>2014</td>\n",
       "      <td>77361.104881</td>\n",
       "    </tr>\n",
       "  </tbody>\n",
       "</table>\n",
       "</div>"
      ],
      "text/plain": [
       "               Country  Year  GDP_Per_Capita\n",
       "3721  Macao SAR, China  2014   156514.133850\n",
       "3691        Luxembourg  2014   108760.916030\n",
       "5138             Qatar  2014    95578.416973\n",
       "5464         Singapore  2014    87808.663157\n",
       "561            Bermuda  2014    77361.104881"
      ]
     },
     "execution_count": 244,
     "metadata": {},
     "output_type": "execute_result"
    }
   ],
   "source": [
    "gdp_2014.sort_values('GDP_Per_Capita', ascending = False).head(5)"
   ]
  },
  {
   "cell_type": "code",
   "execution_count": 245,
   "id": "f7953759",
   "metadata": {},
   "outputs": [
    {
     "data": {
      "text/html": [
       "<div>\n",
       "<style scoped>\n",
       "    .dataframe tbody tr th:only-of-type {\n",
       "        vertical-align: middle;\n",
       "    }\n",
       "\n",
       "    .dataframe tbody tr th {\n",
       "        vertical-align: top;\n",
       "    }\n",
       "\n",
       "    .dataframe thead th {\n",
       "        text-align: right;\n",
       "    }\n",
       "</style>\n",
       "<table border=\"1\" class=\"dataframe\">\n",
       "  <thead>\n",
       "    <tr style=\"text-align: right;\">\n",
       "      <th></th>\n",
       "      <th>Country</th>\n",
       "      <th>Year</th>\n",
       "      <th>GDP_Per_Capita</th>\n",
       "    </tr>\n",
       "  </thead>\n",
       "  <tbody>\n",
       "    <tr>\n",
       "      <th>3721</th>\n",
       "      <td>Macao SAR, China</td>\n",
       "      <td>2014</td>\n",
       "      <td>156514.133850</td>\n",
       "    </tr>\n",
       "    <tr>\n",
       "      <th>3691</th>\n",
       "      <td>Luxembourg</td>\n",
       "      <td>2014</td>\n",
       "      <td>108760.916030</td>\n",
       "    </tr>\n",
       "    <tr>\n",
       "      <th>5138</th>\n",
       "      <td>Qatar</td>\n",
       "      <td>2014</td>\n",
       "      <td>95578.416973</td>\n",
       "    </tr>\n",
       "    <tr>\n",
       "      <th>5464</th>\n",
       "      <td>Singapore</td>\n",
       "      <td>2014</td>\n",
       "      <td>87808.663157</td>\n",
       "    </tr>\n",
       "    <tr>\n",
       "      <th>561</th>\n",
       "      <td>Bermuda</td>\n",
       "      <td>2014</td>\n",
       "      <td>77361.104881</td>\n",
       "    </tr>\n",
       "  </tbody>\n",
       "</table>\n",
       "</div>"
      ],
      "text/plain": [
       "               Country  Year  GDP_Per_Capita\n",
       "3721  Macao SAR, China  2014   156514.133850\n",
       "3691        Luxembourg  2014   108760.916030\n",
       "5138             Qatar  2014    95578.416973\n",
       "5464         Singapore  2014    87808.663157\n",
       "561            Bermuda  2014    77361.104881"
      ]
     },
     "execution_count": 245,
     "metadata": {},
     "output_type": "execute_result"
    }
   ],
   "source": [
    "gdp_2014.nlargest(5, 'GDP_Per_Capita')"
   ]
  },
  {
   "cell_type": "code",
   "execution_count": 246,
   "id": "07b6e309",
   "metadata": {},
   "outputs": [
    {
     "data": {
      "text/html": [
       "<div>\n",
       "<style scoped>\n",
       "    .dataframe tbody tr th:only-of-type {\n",
       "        vertical-align: middle;\n",
       "    }\n",
       "\n",
       "    .dataframe tbody tr th {\n",
       "        vertical-align: top;\n",
       "    }\n",
       "\n",
       "    .dataframe thead th {\n",
       "        text-align: right;\n",
       "    }\n",
       "</style>\n",
       "<table border=\"1\" class=\"dataframe\">\n",
       "  <thead>\n",
       "    <tr style=\"text-align: right;\">\n",
       "      <th></th>\n",
       "      <th>Country</th>\n",
       "      <th>Year</th>\n",
       "      <th>GDP_Per_Capita</th>\n",
       "    </tr>\n",
       "  </thead>\n",
       "  <tbody>\n",
       "    <tr>\n",
       "      <th>1047</th>\n",
       "      <td>Central African Republic</td>\n",
       "      <td>2014</td>\n",
       "      <td>822.610458</td>\n",
       "    </tr>\n",
       "    <tr>\n",
       "      <th>827</th>\n",
       "      <td>Burundi</td>\n",
       "      <td>2014</td>\n",
       "      <td>886.235777</td>\n",
       "    </tr>\n",
       "    <tr>\n",
       "      <th>3781</th>\n",
       "      <td>Malawi</td>\n",
       "      <td>2014</td>\n",
       "      <td>1027.208496</td>\n",
       "    </tr>\n",
       "    <tr>\n",
       "      <th>1422</th>\n",
       "      <td>Dem. Rep. Congo</td>\n",
       "      <td>2014</td>\n",
       "      <td>1029.790785</td>\n",
       "    </tr>\n",
       "    <tr>\n",
       "      <th>4528</th>\n",
       "      <td>Niger</td>\n",
       "      <td>2014</td>\n",
       "      <td>1127.615541</td>\n",
       "    </tr>\n",
       "  </tbody>\n",
       "</table>\n",
       "</div>"
      ],
      "text/plain": [
       "                       Country  Year  GDP_Per_Capita\n",
       "1047  Central African Republic  2014      822.610458\n",
       "827                    Burundi  2014      886.235777\n",
       "3781                    Malawi  2014     1027.208496\n",
       "1422           Dem. Rep. Congo  2014     1029.790785\n",
       "4528                     Niger  2014     1127.615541"
      ]
     },
     "execution_count": 246,
     "metadata": {},
     "output_type": "execute_result"
    }
   ],
   "source": [
    "gdp_2014.nsmallest(5, 'GDP_Per_Capita')"
   ]
  },
  {
   "cell_type": "code",
   "execution_count": 247,
   "id": "633d0276",
   "metadata": {},
   "outputs": [
    {
     "data": {
      "text/html": [
       "<div>\n",
       "<style scoped>\n",
       "    .dataframe tbody tr th:only-of-type {\n",
       "        vertical-align: middle;\n",
       "    }\n",
       "\n",
       "    .dataframe tbody tr th {\n",
       "        vertical-align: top;\n",
       "    }\n",
       "\n",
       "    .dataframe thead th {\n",
       "        text-align: right;\n",
       "    }\n",
       "</style>\n",
       "<table border=\"1\" class=\"dataframe\">\n",
       "  <thead>\n",
       "    <tr style=\"text-align: right;\">\n",
       "      <th></th>\n",
       "      <th>Country</th>\n",
       "      <th>Year</th>\n",
       "      <th>GDP_Per_Capita</th>\n",
       "    </tr>\n",
       "  </thead>\n",
       "  <tbody>\n",
       "    <tr>\n",
       "      <th>3721</th>\n",
       "      <td>Macao SAR, China</td>\n",
       "      <td>2014</td>\n",
       "      <td>156514.133850</td>\n",
       "    </tr>\n",
       "    <tr>\n",
       "      <th>3691</th>\n",
       "      <td>Luxembourg</td>\n",
       "      <td>2014</td>\n",
       "      <td>108760.916030</td>\n",
       "    </tr>\n",
       "    <tr>\n",
       "      <th>5138</th>\n",
       "      <td>Qatar</td>\n",
       "      <td>2014</td>\n",
       "      <td>95578.416973</td>\n",
       "    </tr>\n",
       "    <tr>\n",
       "      <th>5464</th>\n",
       "      <td>Singapore</td>\n",
       "      <td>2014</td>\n",
       "      <td>87808.663157</td>\n",
       "    </tr>\n",
       "    <tr>\n",
       "      <th>561</th>\n",
       "      <td>Bermuda</td>\n",
       "      <td>2014</td>\n",
       "      <td>77361.104881</td>\n",
       "    </tr>\n",
       "    <tr>\n",
       "      <th>...</th>\n",
       "      <td>...</td>\n",
       "      <td>...</td>\n",
       "      <td>...</td>\n",
       "    </tr>\n",
       "    <tr>\n",
       "      <th>4528</th>\n",
       "      <td>Niger</td>\n",
       "      <td>2014</td>\n",
       "      <td>1127.615541</td>\n",
       "    </tr>\n",
       "    <tr>\n",
       "      <th>1422</th>\n",
       "      <td>Dem. Rep. Congo</td>\n",
       "      <td>2014</td>\n",
       "      <td>1029.790785</td>\n",
       "    </tr>\n",
       "    <tr>\n",
       "      <th>3781</th>\n",
       "      <td>Malawi</td>\n",
       "      <td>2014</td>\n",
       "      <td>1027.208496</td>\n",
       "    </tr>\n",
       "    <tr>\n",
       "      <th>827</th>\n",
       "      <td>Burundi</td>\n",
       "      <td>2014</td>\n",
       "      <td>886.235777</td>\n",
       "    </tr>\n",
       "    <tr>\n",
       "      <th>1047</th>\n",
       "      <td>Central African Republic</td>\n",
       "      <td>2014</td>\n",
       "      <td>822.610458</td>\n",
       "    </tr>\n",
       "  </tbody>\n",
       "</table>\n",
       "<p>238 rows × 3 columns</p>\n",
       "</div>"
      ],
      "text/plain": [
       "                       Country  Year  GDP_Per_Capita\n",
       "3721          Macao SAR, China  2014   156514.133850\n",
       "3691                Luxembourg  2014   108760.916030\n",
       "5138                     Qatar  2014    95578.416973\n",
       "5464                 Singapore  2014    87808.663157\n",
       "561                    Bermuda  2014    77361.104881\n",
       "...                        ...   ...             ...\n",
       "4528                     Niger  2014     1127.615541\n",
       "1422           Dem. Rep. Congo  2014     1029.790785\n",
       "3781                    Malawi  2014     1027.208496\n",
       "827                    Burundi  2014      886.235777\n",
       "1047  Central African Republic  2014      822.610458\n",
       "\n",
       "[238 rows x 3 columns]"
      ]
     },
     "execution_count": 247,
     "metadata": {},
     "output_type": "execute_result"
    }
   ],
   "source": [
    "gdp_2014.sort_values('GDP_Per_Capita', ascending = False)"
   ]
  },
  {
   "cell_type": "markdown",
   "id": "254abf6f",
   "metadata": {},
   "source": [
    "13. Now, return to the full dataset, `gdp_df`. Pivot the data for 1990 and 2017 (using the pandas `.pivot_table()` method or another method) so that each row corresponds to a country, each column corresponds to a year, and the values in the table give the GDP_Per_Capita amount. Drop any rows that are missing values for either 1990 or 2017. Save the result to a dataframe named `gdp_pivoted`."
   ]
  },
  {
   "cell_type": "code",
   "execution_count": 248,
   "id": "68c20d4f",
   "metadata": {},
   "outputs": [
    {
     "data": {
      "text/html": [
       "<div>\n",
       "<style scoped>\n",
       "    .dataframe tbody tr th:only-of-type {\n",
       "        vertical-align: middle;\n",
       "    }\n",
       "\n",
       "    .dataframe tbody tr th {\n",
       "        vertical-align: top;\n",
       "    }\n",
       "\n",
       "    .dataframe thead th {\n",
       "        text-align: right;\n",
       "    }\n",
       "</style>\n",
       "<table border=\"1\" class=\"dataframe\">\n",
       "  <thead>\n",
       "    <tr style=\"text-align: right;\">\n",
       "      <th></th>\n",
       "      <th>Country</th>\n",
       "      <th>Year</th>\n",
       "      <th>GDP_Per_Capita</th>\n",
       "    </tr>\n",
       "  </thead>\n",
       "  <tbody>\n",
       "    <tr>\n",
       "      <th>0</th>\n",
       "      <td>Afghanistan</td>\n",
       "      <td>2019</td>\n",
       "      <td>2065.036398</td>\n",
       "    </tr>\n",
       "    <tr>\n",
       "      <th>1</th>\n",
       "      <td>Afghanistan</td>\n",
       "      <td>2018</td>\n",
       "      <td>2033.779002</td>\n",
       "    </tr>\n",
       "  </tbody>\n",
       "</table>\n",
       "</div>"
      ],
      "text/plain": [
       "       Country  Year  GDP_Per_Capita\n",
       "0  Afghanistan  2019     2065.036398\n",
       "1  Afghanistan  2018     2033.779002"
      ]
     },
     "execution_count": 248,
     "metadata": {},
     "output_type": "execute_result"
    }
   ],
   "source": [
    "gdp_df.head(2)"
   ]
  },
  {
   "cell_type": "code",
   "execution_count": 249,
   "id": "f8aae38d",
   "metadata": {},
   "outputs": [],
   "source": [
    "gdp_pivoted = (\n",
    "    gdp_df\n",
    "    .loc[gdp_df['Year'].isin([1990, 2017])]\n",
    "    .pivot_table(values = 'GDP_Per_Capita',\n",
    "                  index = 'Country',\n",
    "                  columns = 'Year')\n",
    "    .dropna()\n",
    ")"
   ]
  },
  {
   "cell_type": "markdown",
   "id": "fc70e0c0",
   "metadata": {},
   "source": [
    "14. Create a new column in `gdp_pivoted` named `Percent_Change`. This column should contain the percent change in GDP_Per_Capita from 1990 to 2017. Hint: Percent change is calculated as 100*(New Value - Old Value) / Old Value."
   ]
  },
  {
   "cell_type": "code",
   "execution_count": 250,
   "id": "bcaca8b4",
   "metadata": {},
   "outputs": [
    {
     "data": {
      "text/plain": [
       "Int64Index([1990, 2017], dtype='int64', name='Year')"
      ]
     },
     "execution_count": 250,
     "metadata": {},
     "output_type": "execute_result"
    }
   ],
   "source": [
    "gdp_pivoted.columns"
   ]
  },
  {
   "cell_type": "code",
   "execution_count": 251,
   "id": "07d86a15",
   "metadata": {},
   "outputs": [],
   "source": [
    "gdp_pivoted['Percent_Change'] = 100 * (gdp_pivoted[2017] - gdp_pivoted[1990]) / gdp_pivoted[1990]"
   ]
  },
  {
   "cell_type": "code",
   "execution_count": 252,
   "id": "fe0777c6",
   "metadata": {},
   "outputs": [
    {
     "data": {
      "text/html": [
       "<div>\n",
       "<style scoped>\n",
       "    .dataframe tbody tr th:only-of-type {\n",
       "        vertical-align: middle;\n",
       "    }\n",
       "\n",
       "    .dataframe tbody tr th {\n",
       "        vertical-align: top;\n",
       "    }\n",
       "\n",
       "    .dataframe thead th {\n",
       "        text-align: right;\n",
       "    }\n",
       "</style>\n",
       "<table border=\"1\" class=\"dataframe\">\n",
       "  <thead>\n",
       "    <tr style=\"text-align: right;\">\n",
       "      <th>Year</th>\n",
       "      <th>1990</th>\n",
       "      <th>2017</th>\n",
       "      <th>Percent_Change</th>\n",
       "    </tr>\n",
       "    <tr>\n",
       "      <th>Country</th>\n",
       "      <th></th>\n",
       "      <th></th>\n",
       "      <th></th>\n",
       "    </tr>\n",
       "  </thead>\n",
       "  <tbody>\n",
       "    <tr>\n",
       "      <th>Albania</th>\n",
       "      <td>4842.734635</td>\n",
       "      <td>12811.759436</td>\n",
       "      <td>164.556297</td>\n",
       "    </tr>\n",
       "    <tr>\n",
       "      <th>Algeria</th>\n",
       "      <td>8746.352901</td>\n",
       "      <td>11737.409353</td>\n",
       "      <td>34.197756</td>\n",
       "    </tr>\n",
       "    <tr>\n",
       "      <th>Angola</th>\n",
       "      <td>5783.429064</td>\n",
       "      <td>7310.901738</td>\n",
       "      <td>26.411194</td>\n",
       "    </tr>\n",
       "    <tr>\n",
       "      <th>Antigua and Barbuda</th>\n",
       "      <td>15459.551675</td>\n",
       "      <td>19840.076123</td>\n",
       "      <td>28.335391</td>\n",
       "    </tr>\n",
       "    <tr>\n",
       "      <th>Arab World</th>\n",
       "      <td>9694.667544</td>\n",
       "      <td>14555.474921</td>\n",
       "      <td>50.138980</td>\n",
       "    </tr>\n",
       "    <tr>\n",
       "      <th>...</th>\n",
       "      <td>...</td>\n",
       "      <td>...</td>\n",
       "      <td>...</td>\n",
       "    </tr>\n",
       "    <tr>\n",
       "      <th>Vanuatu</th>\n",
       "      <td>2888.309393</td>\n",
       "      <td>3116.645194</td>\n",
       "      <td>7.905517</td>\n",
       "    </tr>\n",
       "    <tr>\n",
       "      <th>Vietnam</th>\n",
       "      <td>1673.249634</td>\n",
       "      <td>7155.745829</td>\n",
       "      <td>327.655604</td>\n",
       "    </tr>\n",
       "    <tr>\n",
       "      <th>World</th>\n",
       "      <td>9680.269697</td>\n",
       "      <td>16253.385518</td>\n",
       "      <td>67.902197</td>\n",
       "    </tr>\n",
       "    <tr>\n",
       "      <th>Zambia</th>\n",
       "      <td>2190.182814</td>\n",
       "      <td>3485.005238</td>\n",
       "      <td>59.119377</td>\n",
       "    </tr>\n",
       "    <tr>\n",
       "      <th>Zimbabwe</th>\n",
       "      <td>3324.348171</td>\n",
       "      <td>3028.245976</td>\n",
       "      <td>-8.907075</td>\n",
       "    </tr>\n",
       "  </tbody>\n",
       "</table>\n",
       "<p>207 rows × 3 columns</p>\n",
       "</div>"
      ],
      "text/plain": [
       "Year                         1990          2017  Percent_Change\n",
       "Country                                                        \n",
       "Albania               4842.734635  12811.759436      164.556297\n",
       "Algeria               8746.352901  11737.409353       34.197756\n",
       "Angola                5783.429064   7310.901738       26.411194\n",
       "Antigua and Barbuda  15459.551675  19840.076123       28.335391\n",
       "Arab World            9694.667544  14555.474921       50.138980\n",
       "...                           ...           ...             ...\n",
       "Vanuatu               2888.309393   3116.645194        7.905517\n",
       "Vietnam               1673.249634   7155.745829      327.655604\n",
       "World                 9680.269697  16253.385518       67.902197\n",
       "Zambia                2190.182814   3485.005238       59.119377\n",
       "Zimbabwe              3324.348171   3028.245976       -8.907075\n",
       "\n",
       "[207 rows x 3 columns]"
      ]
     },
     "execution_count": 252,
     "metadata": {},
     "output_type": "execute_result"
    }
   ],
   "source": [
    "gdp_pivoted"
   ]
  },
  {
   "cell_type": "markdown",
   "id": "3babc3c2",
   "metadata": {},
   "source": [
    "15. How many countries experienced a negative percent change in GDP per capita from 1990 to 2017?"
   ]
  },
  {
   "cell_type": "code",
   "execution_count": 253,
   "id": "be6fb65e",
   "metadata": {},
   "outputs": [
    {
     "data": {
      "text/plain": [
       "17"
      ]
     },
     "execution_count": 253,
     "metadata": {},
     "output_type": "execute_result"
    }
   ],
   "source": [
    "gdp_pivoted[gdp_pivoted['Percent_Change'] < 0].shape[0]"
   ]
  },
  {
   "cell_type": "code",
   "execution_count": 254,
   "id": "c85ed2f6",
   "metadata": {},
   "outputs": [
    {
     "data": {
      "text/plain": [
       "17"
      ]
     },
     "execution_count": 254,
     "metadata": {},
     "output_type": "execute_result"
    }
   ],
   "source": [
    "(gdp_pivoted['Percent_Change'] < 0).sum()"
   ]
  },
  {
   "cell_type": "code",
   "execution_count": 255,
   "id": "58598856",
   "metadata": {},
   "outputs": [
    {
     "data": {
      "text/plain": [
       "17"
      ]
     },
     "execution_count": 255,
     "metadata": {},
     "output_type": "execute_result"
    }
   ],
   "source": [
    "len(gdp_pivoted[gdp_pivoted['Percent_Change'] < 0])"
   ]
  },
  {
   "cell_type": "code",
   "execution_count": 256,
   "id": "b9e3a822",
   "metadata": {},
   "outputs": [
    {
     "data": {
      "text/plain": [
       "0.0821256038647343"
      ]
     },
     "execution_count": 256,
     "metadata": {},
     "output_type": "execute_result"
    }
   ],
   "source": [
    "(gdp_pivoted['Percent_Change'] < 0).mean()"
   ]
  },
  {
   "cell_type": "code",
   "execution_count": 257,
   "id": "0a579ffd",
   "metadata": {},
   "outputs": [
    {
     "data": {
      "text/plain": [
       "17"
      ]
     },
     "execution_count": 257,
     "metadata": {},
     "output_type": "execute_result"
    }
   ],
   "source": [
    "sum(n < 0 for n in gdp_pivoted['Percent_Change'].values.flatten()) "
   ]
  },
  {
   "cell_type": "markdown",
   "id": "a5ccd8d7",
   "metadata": {},
   "source": [
    "16. Which country had the highest % change in GDP per capita? Create a line plot showing this country's GDP per capita for all years from 1990 to 2017. Create another showing the country with the second highest % change in GDP. How do the trends in these countries compare?  **Bonus:** Put both line charts on the same plot."
   ]
  },
  {
   "cell_type": "code",
   "execution_count": 258,
   "id": "9a4ac931",
   "metadata": {},
   "outputs": [],
   "source": [
    "top_pc = gdp_pivoted.nlargest(2, 'Percent_Change').index[0]\n",
    "second_pc = gdp_pivoted.nlargest(2, 'Percent_Change').index[1]"
   ]
  },
  {
   "cell_type": "code",
   "execution_count": 259,
   "id": "3ebd7a0e",
   "metadata": {},
   "outputs": [
    {
     "data": {
      "image/png": "[encoded data removed]",
      "text/plain": [
       "<Figure size 640x480 with 1 Axes>"
      ]
     },
     "metadata": {},
     "output_type": "display_data"
    }
   ],
   "source": [
    "ax = gdp_df[gdp_df['Country'] == top_pc].plot(x = 'Year', y = 'GDP_Per_Capita', label = top_pc)\n",
    "gdp_df[gdp_df['Country'] == second_pc].plot(x = 'Year',\n",
    "                                            y = 'GDP_Per_Capita',\n",
    "                                            label = second_pc,\n",
    "                                           ax = ax);"
   ]
  },
  {
   "cell_type": "markdown",
   "id": "c7a9e7cf",
   "metadata": {},
   "source": [
    "17. Read in continents.csv contained in the `data` folder into a new dataframe called `continents`. We will be using this dataframe to add a new column to our dataset."
   ]
  },
  {
   "cell_type": "code",
   "execution_count": 260,
   "id": "5d65b0bc",
   "metadata": {},
   "outputs": [
    {
     "data": {
      "text/html": [
       "<div>\n",
       "<style scoped>\n",
       "    .dataframe tbody tr th:only-of-type {\n",
       "        vertical-align: middle;\n",
       "    }\n",
       "\n",
       "    .dataframe tbody tr th {\n",
       "        vertical-align: top;\n",
       "    }\n",
       "\n",
       "    .dataframe thead th {\n",
       "        text-align: right;\n",
       "    }\n",
       "</style>\n",
       "<table border=\"1\" class=\"dataframe\">\n",
       "  <thead>\n",
       "    <tr style=\"text-align: right;\">\n",
       "      <th></th>\n",
       "      <th>Continent</th>\n",
       "      <th>Country</th>\n",
       "    </tr>\n",
       "  </thead>\n",
       "  <tbody>\n",
       "    <tr>\n",
       "      <th>0</th>\n",
       "      <td>Asia</td>\n",
       "      <td>Afghanistan</td>\n",
       "    </tr>\n",
       "    <tr>\n",
       "      <th>1</th>\n",
       "      <td>Europe</td>\n",
       "      <td>Albania</td>\n",
       "    </tr>\n",
       "  </tbody>\n",
       "</table>\n",
       "</div>"
      ],
      "text/plain": [
       "  Continent      Country\n",
       "0      Asia  Afghanistan\n",
       "1    Europe      Albania"
      ]
     },
     "execution_count": 260,
     "metadata": {},
     "output_type": "execute_result"
    }
   ],
   "source": [
    "continents = pd.read_csv('../data/continents.csv')\n",
    "continents.head(2)"
   ]
  },
  {
   "cell_type": "code",
   "execution_count": 261,
   "id": "5ea4030e",
   "metadata": {},
   "outputs": [
    {
     "data": {
      "text/plain": [
       "(6868, 3)"
      ]
     },
     "execution_count": 261,
     "metadata": {},
     "output_type": "execute_result"
    }
   ],
   "source": [
    "gdp_df.shape"
   ]
  },
  {
   "cell_type": "code",
   "execution_count": 262,
   "id": "f376a0f1",
   "metadata": {},
   "outputs": [
    {
     "data": {
      "text/plain": [
       "(216, 2)"
      ]
     },
     "execution_count": 262,
     "metadata": {},
     "output_type": "execute_result"
    }
   ],
   "source": [
    "continents.shape"
   ]
  },
  {
   "cell_type": "markdown",
   "id": "f4759fec",
   "metadata": {},
   "source": [
    "18. Merge gdp_df and continents. Keep only the countries that appear in both data frames. Save the result back to gdp_df."
   ]
  },
  {
   "cell_type": "code",
   "execution_count": 263,
   "id": "56b769e5",
   "metadata": {},
   "outputs": [],
   "source": [
    "gdp_df = pd.merge(\n",
    "    left = gdp_df,\n",
    "    right = continents,\n",
    "    how='inner', \n",
    "    on='Country'\n",
    ")"
   ]
  },
  {
   "cell_type": "code",
   "execution_count": 264,
   "id": "21fac00c",
   "metadata": {},
   "outputs": [
    {
     "data": {
      "text/plain": [
       "(5443, 4)"
      ]
     },
     "execution_count": 264,
     "metadata": {},
     "output_type": "execute_result"
    }
   ],
   "source": [
    "gdp_df.shape"
   ]
  },
  {
   "cell_type": "markdown",
   "id": "9c2984f7",
   "metadata": {},
   "source": [
    "19. Determine the number of countries per continent. Create a bar chart showing this."
   ]
  },
  {
   "cell_type": "code",
   "execution_count": 265,
   "id": "4cccbda7",
   "metadata": {},
   "outputs": [
    {
     "data": {
      "text/html": [
       "<div>\n",
       "<style scoped>\n",
       "    .dataframe tbody tr th:only-of-type {\n",
       "        vertical-align: middle;\n",
       "    }\n",
       "\n",
       "    .dataframe tbody tr th {\n",
       "        vertical-align: top;\n",
       "    }\n",
       "\n",
       "    .dataframe thead th {\n",
       "        text-align: right;\n",
       "    }\n",
       "</style>\n",
       "<table border=\"1\" class=\"dataframe\">\n",
       "  <thead>\n",
       "    <tr style=\"text-align: right;\">\n",
       "      <th></th>\n",
       "      <th>Country</th>\n",
       "      <th>Year</th>\n",
       "      <th>GDP_Per_Capita</th>\n",
       "      <th>Continent</th>\n",
       "    </tr>\n",
       "  </thead>\n",
       "  <tbody>\n",
       "    <tr>\n",
       "      <th>0</th>\n",
       "      <td>Afghanistan</td>\n",
       "      <td>2019</td>\n",
       "      <td>2065.036398</td>\n",
       "      <td>Asia</td>\n",
       "    </tr>\n",
       "    <tr>\n",
       "      <th>1</th>\n",
       "      <td>Afghanistan</td>\n",
       "      <td>2018</td>\n",
       "      <td>2033.779002</td>\n",
       "      <td>Asia</td>\n",
       "    </tr>\n",
       "    <tr>\n",
       "      <th>2</th>\n",
       "      <td>Afghanistan</td>\n",
       "      <td>2017</td>\n",
       "      <td>2058.383832</td>\n",
       "      <td>Asia</td>\n",
       "    </tr>\n",
       "    <tr>\n",
       "      <th>3</th>\n",
       "      <td>Afghanistan</td>\n",
       "      <td>2016</td>\n",
       "      <td>2057.062164</td>\n",
       "      <td>Asia</td>\n",
       "    </tr>\n",
       "    <tr>\n",
       "      <th>4</th>\n",
       "      <td>Afghanistan</td>\n",
       "      <td>2015</td>\n",
       "      <td>2068.265904</td>\n",
       "      <td>Asia</td>\n",
       "    </tr>\n",
       "    <tr>\n",
       "      <th>...</th>\n",
       "      <td>...</td>\n",
       "      <td>...</td>\n",
       "      <td>...</td>\n",
       "      <td>...</td>\n",
       "    </tr>\n",
       "    <tr>\n",
       "      <th>5438</th>\n",
       "      <td>Zimbabwe</td>\n",
       "      <td>1994</td>\n",
       "      <td>3263.934978</td>\n",
       "      <td>Africa</td>\n",
       "    </tr>\n",
       "    <tr>\n",
       "      <th>5439</th>\n",
       "      <td>Zimbabwe</td>\n",
       "      <td>1993</td>\n",
       "      <td>3033.504852</td>\n",
       "      <td>Africa</td>\n",
       "    </tr>\n",
       "    <tr>\n",
       "      <th>5440</th>\n",
       "      <td>Zimbabwe</td>\n",
       "      <td>1992</td>\n",
       "      <td>3054.889178</td>\n",
       "      <td>Africa</td>\n",
       "    </tr>\n",
       "    <tr>\n",
       "      <th>5441</th>\n",
       "      <td>Zimbabwe</td>\n",
       "      <td>1991</td>\n",
       "      <td>3426.598094</td>\n",
       "      <td>Africa</td>\n",
       "    </tr>\n",
       "    <tr>\n",
       "      <th>5442</th>\n",
       "      <td>Zimbabwe</td>\n",
       "      <td>1990</td>\n",
       "      <td>3324.348171</td>\n",
       "      <td>Africa</td>\n",
       "    </tr>\n",
       "  </tbody>\n",
       "</table>\n",
       "<p>5443 rows × 4 columns</p>\n",
       "</div>"
      ],
      "text/plain": [
       "          Country  Year  GDP_Per_Capita Continent\n",
       "0     Afghanistan  2019     2065.036398      Asia\n",
       "1     Afghanistan  2018     2033.779002      Asia\n",
       "2     Afghanistan  2017     2058.383832      Asia\n",
       "3     Afghanistan  2016     2057.062164      Asia\n",
       "4     Afghanistan  2015     2068.265904      Asia\n",
       "...           ...   ...             ...       ...\n",
       "5438     Zimbabwe  1994     3263.934978    Africa\n",
       "5439     Zimbabwe  1993     3033.504852    Africa\n",
       "5440     Zimbabwe  1992     3054.889178    Africa\n",
       "5441     Zimbabwe  1991     3426.598094    Africa\n",
       "5442     Zimbabwe  1990     3324.348171    Africa\n",
       "\n",
       "[5443 rows x 4 columns]"
      ]
     },
     "execution_count": 265,
     "metadata": {},
     "output_type": "execute_result"
    }
   ],
   "source": [
    "gdp_df"
   ]
  },
  {
   "cell_type": "code",
   "execution_count": 266,
   "id": "ea58391d",
   "metadata": {},
   "outputs": [
    {
     "data": {
      "text/plain": [
       "Continent\n",
       "Africa           49\n",
       "Asia             43\n",
       "Europe           45\n",
       "North America    26\n",
       "Oceania          14\n",
       "South America    11\n",
       "Name: Country, dtype: int64"
      ]
     },
     "execution_count": 266,
     "metadata": {},
     "output_type": "execute_result"
    }
   ],
   "source": [
    "gdp_df.drop_duplicates(subset='Country').groupby('Continent')['Country'].count()"
   ]
  },
  {
   "cell_type": "code",
   "execution_count": null,
   "id": "faadc951",
   "metadata": {},
   "outputs": [],
   "source": []
  },
  {
   "cell_type": "code",
   "execution_count": 267,
   "id": "b6e1a9e7",
   "metadata": {},
   "outputs": [
    {
     "data": {
      "text/plain": [
       "<AxesSubplot:>"
      ]
     },
     "execution_count": 267,
     "metadata": {},
     "output_type": "execute_result"
    },
    {
     "data": {
      "image/png": "[encoded data removed]",
      "text/plain": [
       "<Figure size 640x480 with 1 Axes>"
      ]
     },
     "metadata": {},
     "output_type": "display_data"
    }
   ],
   "source": [
    "gdp_df.drop_duplicates(subset='Country')[\"Continent\"].value_counts().plot(kind = \"bar\")"
   ]
  },
  {
   "cell_type": "code",
   "execution_count": 268,
   "id": "2a65e032",
   "metadata": {},
   "outputs": [
    {
     "data": {
      "text/plain": [
       "Continent\n",
       "Africa           49\n",
       "Asia             43\n",
       "Europe           45\n",
       "North America    26\n",
       "Oceania          14\n",
       "South America    11\n",
       "Name: Country, dtype: int64"
      ]
     },
     "execution_count": 268,
     "metadata": {},
     "output_type": "execute_result"
    }
   ],
   "source": [
    "gdp_df.groupby('Continent')['Country'].nunique()"
   ]
  },
  {
   "cell_type": "code",
   "execution_count": 269,
   "id": "215d45db",
   "metadata": {},
   "outputs": [
    {
     "data": {
      "image/png": "[encoded data removed]",
      "text/plain": [
       "<Figure size 640x480 with 1 Axes>"
      ]
     },
     "metadata": {},
     "output_type": "display_data"
    }
   ],
   "source": [
    "(\n",
    "    gdp_df\n",
    "    .groupby('Continent')['Country']\n",
    "    .nunique()\n",
    "    .plot(kind = 'bar',\n",
    "          title = 'Number of Countries Per Continent')\n",
    ");   "
   ]
  },
  {
   "cell_type": "code",
   "execution_count": 270,
   "id": "9ff209a9",
   "metadata": {},
   "outputs": [
    {
     "data": {
      "image/png": "[encoded data removed]",
      "text/plain": [
       "<Figure size 640x480 with 1 Axes>"
      ]
     },
     "metadata": {},
     "output_type": "display_data"
    }
   ],
   "source": [
    "sns.barplot(data=gdp_df.groupby(['Continent'])['Country'].nunique().to_frame().reset_index().rename(columns = {'Country' : 'Total_Countries'}), y='Continent', x='Total_Countries', hue='Continent', dodge=False); \n"
   ]
  },
  {
   "cell_type": "markdown",
   "id": "dfc10be4",
   "metadata": {},
   "source": [
    "20. Create a seaborn boxplot showing GDP per capita in 2014 split out by continent. What do you notice?"
   ]
  },
  {
   "cell_type": "code",
   "execution_count": null,
   "id": "059ea206",
   "metadata": {},
   "outputs": [],
   "source": []
  },
  {
   "cell_type": "code",
   "execution_count": 271,
   "id": "b2e945cd",
   "metadata": {},
   "outputs": [
    {
     "data": {
      "image/png": "[encoded data removed]",
      "text/plain": [
       "<Figure size 800x600 with 1 Axes>"
      ]
     },
     "metadata": {},
     "output_type": "display_data"
    }
   ],
   "source": [
    "fig, ax = plt.subplots(figsize = (8,6))\n",
    "\n",
    "sns.boxplot(\n",
    "    data = gdp_df[gdp_df['Year'] == 2014],\n",
    "    x = 'Continent',\n",
    "    y = 'GDP_Per_Capita',\n",
    "    ax = ax\n",
    ")\n",
    "plt.xticks(rotation = 45);"
   ]
  },
  {
   "cell_type": "markdown",
   "id": "5dca1a2a",
   "metadata": {},
   "source": [
    "21. Download the full csv containing Life expectancy at birth, total (years) from [https://data.worldbank.org/indicator/SP.DYN.LE00.IN?name_desc=false](https://data.worldbank.org/indicator/SP.DYN.LE00.IN?name_desc=false). Read this data into a DataFrame named `life_expectancy`."
   ]
  },
  {
   "cell_type": "code",
   "execution_count": 272,
   "id": "48eed218",
   "metadata": {},
   "outputs": [],
   "source": [
    "life_expectancy = pd.read_csv('../data/API_SP.DYN.LE00.IN_DS2_en_csv_v2_4473398/API_SP.DYN.LE00.IN_DS2_en_csv_v2_4473398.csv',\n",
    "                             header = 2)"
   ]
  },
  {
   "cell_type": "code",
   "execution_count": 273,
   "id": "718e6c0d",
   "metadata": {},
   "outputs": [
    {
     "data": {
      "text/html": [
       "<div>\n",
       "<style scoped>\n",
       "    .dataframe tbody tr th:only-of-type {\n",
       "        vertical-align: middle;\n",
       "    }\n",
       "\n",
       "    .dataframe tbody tr th {\n",
       "        vertical-align: top;\n",
       "    }\n",
       "\n",
       "    .dataframe thead th {\n",
       "        text-align: right;\n",
       "    }\n",
       "</style>\n",
       "<table border=\"1\" class=\"dataframe\">\n",
       "  <thead>\n",
       "    <tr style=\"text-align: right;\">\n",
       "      <th></th>\n",
       "      <th>Country Name</th>\n",
       "      <th>Country Code</th>\n",
       "      <th>Indicator Name</th>\n",
       "      <th>Indicator Code</th>\n",
       "      <th>1960</th>\n",
       "      <th>1961</th>\n",
       "      <th>1962</th>\n",
       "      <th>1963</th>\n",
       "      <th>1964</th>\n",
       "      <th>1965</th>\n",
       "      <th>...</th>\n",
       "      <th>2013</th>\n",
       "      <th>2014</th>\n",
       "      <th>2015</th>\n",
       "      <th>2016</th>\n",
       "      <th>2017</th>\n",
       "      <th>2018</th>\n",
       "      <th>2019</th>\n",
       "      <th>2020</th>\n",
       "      <th>2021</th>\n",
       "      <th>Unnamed: 66</th>\n",
       "    </tr>\n",
       "  </thead>\n",
       "  <tbody>\n",
       "    <tr>\n",
       "      <th>0</th>\n",
       "      <td>Aruba</td>\n",
       "      <td>ABW</td>\n",
       "      <td>Life expectancy at birth, total (years)</td>\n",
       "      <td>SP.DYN.LE00.IN</td>\n",
       "      <td>65.662000</td>\n",
       "      <td>66.074000</td>\n",
       "      <td>66.444000</td>\n",
       "      <td>66.787000</td>\n",
       "      <td>67.113000</td>\n",
       "      <td>67.435000</td>\n",
       "      <td>...</td>\n",
       "      <td>75.441000</td>\n",
       "      <td>75.583000</td>\n",
       "      <td>75.725000</td>\n",
       "      <td>75.868000</td>\n",
       "      <td>76.010000</td>\n",
       "      <td>76.152000</td>\n",
       "      <td>76.293000</td>\n",
       "      <td>76.434000</td>\n",
       "      <td>NaN</td>\n",
       "      <td>NaN</td>\n",
       "    </tr>\n",
       "    <tr>\n",
       "      <th>1</th>\n",
       "      <td>Africa Eastern and Southern</td>\n",
       "      <td>AFE</td>\n",
       "      <td>Life expectancy at birth, total (years)</td>\n",
       "      <td>SP.DYN.LE00.IN</td>\n",
       "      <td>42.716053</td>\n",
       "      <td>43.166935</td>\n",
       "      <td>43.603990</td>\n",
       "      <td>44.025617</td>\n",
       "      <td>44.432721</td>\n",
       "      <td>44.826919</td>\n",
       "      <td>...</td>\n",
       "      <td>60.953363</td>\n",
       "      <td>61.647367</td>\n",
       "      <td>62.259288</td>\n",
       "      <td>62.787681</td>\n",
       "      <td>63.246264</td>\n",
       "      <td>63.648988</td>\n",
       "      <td>64.005213</td>\n",
       "      <td>64.325702</td>\n",
       "      <td>NaN</td>\n",
       "      <td>NaN</td>\n",
       "    </tr>\n",
       "    <tr>\n",
       "      <th>2</th>\n",
       "      <td>Afghanistan</td>\n",
       "      <td>AFG</td>\n",
       "      <td>Life expectancy at birth, total (years)</td>\n",
       "      <td>SP.DYN.LE00.IN</td>\n",
       "      <td>32.446000</td>\n",
       "      <td>32.962000</td>\n",
       "      <td>33.471000</td>\n",
       "      <td>33.971000</td>\n",
       "      <td>34.463000</td>\n",
       "      <td>34.948000</td>\n",
       "      <td>...</td>\n",
       "      <td>62.525000</td>\n",
       "      <td>62.966000</td>\n",
       "      <td>63.377000</td>\n",
       "      <td>63.763000</td>\n",
       "      <td>64.130000</td>\n",
       "      <td>64.486000</td>\n",
       "      <td>64.833000</td>\n",
       "      <td>65.173000</td>\n",
       "      <td>NaN</td>\n",
       "      <td>NaN</td>\n",
       "    </tr>\n",
       "    <tr>\n",
       "      <th>3</th>\n",
       "      <td>Africa Western and Central</td>\n",
       "      <td>AFW</td>\n",
       "      <td>Life expectancy at birth, total (years)</td>\n",
       "      <td>SP.DYN.LE00.IN</td>\n",
       "      <td>37.205380</td>\n",
       "      <td>37.632546</td>\n",
       "      <td>38.052612</td>\n",
       "      <td>38.463746</td>\n",
       "      <td>38.867073</td>\n",
       "      <td>39.264841</td>\n",
       "      <td>...</td>\n",
       "      <td>55.618986</td>\n",
       "      <td>56.088269</td>\n",
       "      <td>56.542009</td>\n",
       "      <td>56.974761</td>\n",
       "      <td>57.382363</td>\n",
       "      <td>57.762347</td>\n",
       "      <td>58.115723</td>\n",
       "      <td>58.445953</td>\n",
       "      <td>NaN</td>\n",
       "      <td>NaN</td>\n",
       "    </tr>\n",
       "    <tr>\n",
       "      <th>4</th>\n",
       "      <td>Angola</td>\n",
       "      <td>AGO</td>\n",
       "      <td>Life expectancy at birth, total (years)</td>\n",
       "      <td>SP.DYN.LE00.IN</td>\n",
       "      <td>37.524000</td>\n",
       "      <td>37.811000</td>\n",
       "      <td>38.113000</td>\n",
       "      <td>38.430000</td>\n",
       "      <td>38.760000</td>\n",
       "      <td>39.102000</td>\n",
       "      <td>...</td>\n",
       "      <td>58.054000</td>\n",
       "      <td>58.776000</td>\n",
       "      <td>59.398000</td>\n",
       "      <td>59.925000</td>\n",
       "      <td>60.379000</td>\n",
       "      <td>60.782000</td>\n",
       "      <td>61.147000</td>\n",
       "      <td>61.487000</td>\n",
       "      <td>NaN</td>\n",
       "      <td>NaN</td>\n",
       "    </tr>\n",
       "    <tr>\n",
       "      <th>...</th>\n",
       "      <td>...</td>\n",
       "      <td>...</td>\n",
       "      <td>...</td>\n",
       "      <td>...</td>\n",
       "      <td>...</td>\n",
       "      <td>...</td>\n",
       "      <td>...</td>\n",
       "      <td>...</td>\n",
       "      <td>...</td>\n",
       "      <td>...</td>\n",
       "      <td>...</td>\n",
       "      <td>...</td>\n",
       "      <td>...</td>\n",
       "      <td>...</td>\n",
       "      <td>...</td>\n",
       "      <td>...</td>\n",
       "      <td>...</td>\n",
       "      <td>...</td>\n",
       "      <td>...</td>\n",
       "      <td>...</td>\n",
       "      <td>...</td>\n",
       "    </tr>\n",
       "    <tr>\n",
       "      <th>261</th>\n",
       "      <td>Kosovo</td>\n",
       "      <td>XKX</td>\n",
       "      <td>Life expectancy at birth, total (years)</td>\n",
       "      <td>SP.DYN.LE00.IN</td>\n",
       "      <td>NaN</td>\n",
       "      <td>NaN</td>\n",
       "      <td>NaN</td>\n",
       "      <td>NaN</td>\n",
       "      <td>NaN</td>\n",
       "      <td>NaN</td>\n",
       "      <td>...</td>\n",
       "      <td>70.797561</td>\n",
       "      <td>71.097561</td>\n",
       "      <td>71.346341</td>\n",
       "      <td>71.846341</td>\n",
       "      <td>72.295122</td>\n",
       "      <td>72.695122</td>\n",
       "      <td>73.092683</td>\n",
       "      <td>71.087805</td>\n",
       "      <td>NaN</td>\n",
       "      <td>NaN</td>\n",
       "    </tr>\n",
       "    <tr>\n",
       "      <th>262</th>\n",
       "      <td>Yemen, Rep.</td>\n",
       "      <td>YEM</td>\n",
       "      <td>Life expectancy at birth, total (years)</td>\n",
       "      <td>SP.DYN.LE00.IN</td>\n",
       "      <td>29.919000</td>\n",
       "      <td>30.163000</td>\n",
       "      <td>30.500000</td>\n",
       "      <td>30.943000</td>\n",
       "      <td>31.501000</td>\n",
       "      <td>32.175000</td>\n",
       "      <td>...</td>\n",
       "      <td>66.016000</td>\n",
       "      <td>66.066000</td>\n",
       "      <td>66.085000</td>\n",
       "      <td>66.087000</td>\n",
       "      <td>66.086000</td>\n",
       "      <td>66.096000</td>\n",
       "      <td>66.125000</td>\n",
       "      <td>66.181000</td>\n",
       "      <td>NaN</td>\n",
       "      <td>NaN</td>\n",
       "    </tr>\n",
       "    <tr>\n",
       "      <th>263</th>\n",
       "      <td>South Africa</td>\n",
       "      <td>ZAF</td>\n",
       "      <td>Life expectancy at birth, total (years)</td>\n",
       "      <td>SP.DYN.LE00.IN</td>\n",
       "      <td>48.406000</td>\n",
       "      <td>48.777000</td>\n",
       "      <td>49.142000</td>\n",
       "      <td>49.509000</td>\n",
       "      <td>49.888000</td>\n",
       "      <td>50.284000</td>\n",
       "      <td>...</td>\n",
       "      <td>61.099000</td>\n",
       "      <td>61.968000</td>\n",
       "      <td>62.649000</td>\n",
       "      <td>63.153000</td>\n",
       "      <td>63.538000</td>\n",
       "      <td>63.857000</td>\n",
       "      <td>64.131000</td>\n",
       "      <td>64.379000</td>\n",
       "      <td>NaN</td>\n",
       "      <td>NaN</td>\n",
       "    </tr>\n",
       "    <tr>\n",
       "      <th>264</th>\n",
       "      <td>Zambia</td>\n",
       "      <td>ZMB</td>\n",
       "      <td>Life expectancy at birth, total (years)</td>\n",
       "      <td>SP.DYN.LE00.IN</td>\n",
       "      <td>46.687000</td>\n",
       "      <td>47.084000</td>\n",
       "      <td>47.446000</td>\n",
       "      <td>47.772000</td>\n",
       "      <td>48.068000</td>\n",
       "      <td>48.351000</td>\n",
       "      <td>...</td>\n",
       "      <td>59.746000</td>\n",
       "      <td>60.831000</td>\n",
       "      <td>61.737000</td>\n",
       "      <td>62.464000</td>\n",
       "      <td>63.043000</td>\n",
       "      <td>63.510000</td>\n",
       "      <td>63.886000</td>\n",
       "      <td>64.194000</td>\n",
       "      <td>NaN</td>\n",
       "      <td>NaN</td>\n",
       "    </tr>\n",
       "    <tr>\n",
       "      <th>265</th>\n",
       "      <td>Zimbabwe</td>\n",
       "      <td>ZWE</td>\n",
       "      <td>Life expectancy at birth, total (years)</td>\n",
       "      <td>SP.DYN.LE00.IN</td>\n",
       "      <td>53.019000</td>\n",
       "      <td>53.483000</td>\n",
       "      <td>53.946000</td>\n",
       "      <td>54.403000</td>\n",
       "      <td>54.849000</td>\n",
       "      <td>55.274000</td>\n",
       "      <td>...</td>\n",
       "      <td>56.897000</td>\n",
       "      <td>58.410000</td>\n",
       "      <td>59.534000</td>\n",
       "      <td>60.294000</td>\n",
       "      <td>60.812000</td>\n",
       "      <td>61.195000</td>\n",
       "      <td>61.490000</td>\n",
       "      <td>61.738000</td>\n",
       "      <td>NaN</td>\n",
       "      <td>NaN</td>\n",
       "    </tr>\n",
       "  </tbody>\n",
       "</table>\n",
       "<p>266 rows × 67 columns</p>\n",
       "</div>"
      ],
      "text/plain": [
       "                    Country Name Country Code  \\\n",
       "0                          Aruba          ABW   \n",
       "1    Africa Eastern and Southern          AFE   \n",
       "2                    Afghanistan          AFG   \n",
       "3     Africa Western and Central          AFW   \n",
       "4                         Angola          AGO   \n",
       "..                           ...          ...   \n",
       "261                       Kosovo          XKX   \n",
       "262                  Yemen, Rep.          YEM   \n",
       "263                 South Africa          ZAF   \n",
       "264                       Zambia          ZMB   \n",
       "265                     Zimbabwe          ZWE   \n",
       "\n",
       "                              Indicator Name  Indicator Code       1960  \\\n",
       "0    Life expectancy at birth, total (years)  SP.DYN.LE00.IN  65.662000   \n",
       "1    Life expectancy at birth, total (years)  SP.DYN.LE00.IN  42.716053   \n",
       "2    Life expectancy at birth, total (years)  SP.DYN.LE00.IN  32.446000   \n",
       "3    Life expectancy at birth, total (years)  SP.DYN.LE00.IN  37.205380   \n",
       "4    Life expectancy at birth, total (years)  SP.DYN.LE00.IN  37.524000   \n",
       "..                                       ...             ...        ...   \n",
       "261  Life expectancy at birth, total (years)  SP.DYN.LE00.IN        NaN   \n",
       "262  Life expectancy at birth, total (years)  SP.DYN.LE00.IN  29.919000   \n",
       "263  Life expectancy at birth, total (years)  SP.DYN.LE00.IN  48.406000   \n",
       "264  Life expectancy at birth, total (years)  SP.DYN.LE00.IN  46.687000   \n",
       "265  Life expectancy at birth, total (years)  SP.DYN.LE00.IN  53.019000   \n",
       "\n",
       "          1961       1962       1963       1964       1965  ...       2013  \\\n",
       "0    66.074000  66.444000  66.787000  67.113000  67.435000  ...  75.441000   \n",
       "1    43.166935  43.603990  44.025617  44.432721  44.826919  ...  60.953363   \n",
       "2    32.962000  33.471000  33.971000  34.463000  34.948000  ...  62.525000   \n",
       "3    37.632546  38.052612  38.463746  38.867073  39.264841  ...  55.618986   \n",
       "4    37.811000  38.113000  38.430000  38.760000  39.102000  ...  58.054000   \n",
       "..         ...        ...        ...        ...        ...  ...        ...   \n",
       "261        NaN        NaN        NaN        NaN        NaN  ...  70.797561   \n",
       "262  30.163000  30.500000  30.943000  31.501000  32.175000  ...  66.016000   \n",
       "263  48.777000  49.142000  49.509000  49.888000  50.284000  ...  61.099000   \n",
       "264  47.084000  47.446000  47.772000  48.068000  48.351000  ...  59.746000   \n",
       "265  53.483000  53.946000  54.403000  54.849000  55.274000  ...  56.897000   \n",
       "\n",
       "          2014       2015       2016       2017       2018       2019  \\\n",
       "0    75.583000  75.725000  75.868000  76.010000  76.152000  76.293000   \n",
       "1    61.647367  62.259288  62.787681  63.246264  63.648988  64.005213   \n",
       "2    62.966000  63.377000  63.763000  64.130000  64.486000  64.833000   \n",
       "3    56.088269  56.542009  56.974761  57.382363  57.762347  58.115723   \n",
       "4    58.776000  59.398000  59.925000  60.379000  60.782000  61.147000   \n",
       "..         ...        ...        ...        ...        ...        ...   \n",
       "261  71.097561  71.346341  71.846341  72.295122  72.695122  73.092683   \n",
       "262  66.066000  66.085000  66.087000  66.086000  66.096000  66.125000   \n",
       "263  61.968000  62.649000  63.153000  63.538000  63.857000  64.131000   \n",
       "264  60.831000  61.737000  62.464000  63.043000  63.510000  63.886000   \n",
       "265  58.410000  59.534000  60.294000  60.812000  61.195000  61.490000   \n",
       "\n",
       "          2020  2021  Unnamed: 66  \n",
       "0    76.434000   NaN          NaN  \n",
       "1    64.325702   NaN          NaN  \n",
       "2    65.173000   NaN          NaN  \n",
       "3    58.445953   NaN          NaN  \n",
       "4    61.487000   NaN          NaN  \n",
       "..         ...   ...          ...  \n",
       "261  71.087805   NaN          NaN  \n",
       "262  66.181000   NaN          NaN  \n",
       "263  64.379000   NaN          NaN  \n",
       "264  64.194000   NaN          NaN  \n",
       "265  61.738000   NaN          NaN  \n",
       "\n",
       "[266 rows x 67 columns]"
      ]
     },
     "execution_count": 273,
     "metadata": {},
     "output_type": "execute_result"
    }
   ],
   "source": [
    "life_expectancy"
   ]
  },
  {
   "cell_type": "markdown",
   "id": "9cccbe9f",
   "metadata": {},
   "source": [
    "22. Drop the Country Code, Indicator Name, and Indicator Code columns. Then use `.melt()` to convert your data from wide to long. That is, instead of having one row per country and multiple colums per year, we want to have multiple rows per country and a single column for year. After melting, rename the columns to `Country`, `Year`, and `Life_Expectancy`."
   ]
  },
  {
   "cell_type": "code",
   "execution_count": 274,
   "id": "5ac55c4c",
   "metadata": {},
   "outputs": [],
   "source": [
    "life_expectancy = life_expectancy.drop(columns = ['Country Code', 'Indicator Name', 'Indicator Code', 'Unnamed: 66'])"
   ]
  },
  {
   "cell_type": "code",
   "execution_count": 275,
   "id": "3c309cae",
   "metadata": {},
   "outputs": [],
   "source": [
    "life_expectancy = life_expectancy.melt(id_vars = 'Country Name',\n",
    "                    var_name = 'Year',\n",
    "                    value_name = 'Life_Expectancy')"
   ]
  },
  {
   "cell_type": "code",
   "execution_count": 276,
   "id": "4472dba3",
   "metadata": {},
   "outputs": [],
   "source": [
    "life_expectancy = life_expectancy.rename(columns = {'Country Name': 'Country'})"
   ]
  },
  {
   "cell_type": "markdown",
   "id": "85f43c32",
   "metadata": {},
   "source": [
    "23. What was the first country with a life expectancy to exceed 80?"
   ]
  },
  {
   "cell_type": "code",
   "execution_count": 277,
   "id": "826a0dca",
   "metadata": {},
   "outputs": [
    {
     "data": {
      "text/html": [
       "<div>\n",
       "<style scoped>\n",
       "    .dataframe tbody tr th:only-of-type {\n",
       "        vertical-align: middle;\n",
       "    }\n",
       "\n",
       "    .dataframe tbody tr th {\n",
       "        vertical-align: top;\n",
       "    }\n",
       "\n",
       "    .dataframe thead th {\n",
       "        text-align: right;\n",
       "    }\n",
       "</style>\n",
       "<table border=\"1\" class=\"dataframe\">\n",
       "  <thead>\n",
       "    <tr style=\"text-align: right;\">\n",
       "      <th></th>\n",
       "      <th>Country</th>\n",
       "      <th>Year</th>\n",
       "      <th>Life_Expectancy</th>\n",
       "    </tr>\n",
       "  </thead>\n",
       "  <tbody>\n",
       "    <tr>\n",
       "      <th>9695</th>\n",
       "      <td>Japan</td>\n",
       "      <td>1996</td>\n",
       "      <td>80.200244</td>\n",
       "    </tr>\n",
       "  </tbody>\n",
       "</table>\n",
       "</div>"
      ],
      "text/plain": [
       "     Country  Year  Life_Expectancy\n",
       "9695   Japan  1996        80.200244"
      ]
     },
     "execution_count": 277,
     "metadata": {},
     "output_type": "execute_result"
    }
   ],
   "source": [
    "life_expectancy[life_expectancy['Life_Expectancy'] > 80].sort_values('Year').head(1)"
   ]
  },
  {
   "cell_type": "code",
   "execution_count": 278,
   "id": "e63fe0fa",
   "metadata": {},
   "outputs": [
    {
     "data": {
      "text/plain": [
       "Country                Japan\n",
       "Year                    1996\n",
       "Life_Expectancy    80.200244\n",
       "Name: 9695, dtype: object"
      ]
     },
     "execution_count": 278,
     "metadata": {},
     "output_type": "execute_result"
    }
   ],
   "source": [
    "life_expectancy[life_expectancy.Life_Expectancy > 80].iloc[0] "
   ]
  },
  {
   "cell_type": "code",
   "execution_count": 279,
   "id": "b1eefd44",
   "metadata": {},
   "outputs": [
    {
     "data": {
      "text/html": [
       "<div>\n",
       "<style scoped>\n",
       "    .dataframe tbody tr th:only-of-type {\n",
       "        vertical-align: middle;\n",
       "    }\n",
       "\n",
       "    .dataframe tbody tr th {\n",
       "        vertical-align: top;\n",
       "    }\n",
       "\n",
       "    .dataframe thead th {\n",
       "        text-align: right;\n",
       "    }\n",
       "</style>\n",
       "<table border=\"1\" class=\"dataframe\">\n",
       "  <thead>\n",
       "    <tr style=\"text-align: right;\">\n",
       "      <th></th>\n",
       "      <th>Country</th>\n",
       "      <th>Year</th>\n",
       "      <th>Life_Expectancy</th>\n",
       "    </tr>\n",
       "  </thead>\n",
       "  <tbody>\n",
       "    <tr>\n",
       "      <th>15343</th>\n",
       "      <td>OECD members</td>\n",
       "      <td>2017</td>\n",
       "      <td>80.005170</td>\n",
       "    </tr>\n",
       "    <tr>\n",
       "      <th>13051</th>\n",
       "      <td>Belgium</td>\n",
       "      <td>2009</td>\n",
       "      <td>80.034146</td>\n",
       "    </tr>\n",
       "    <tr>\n",
       "      <th>12147</th>\n",
       "      <td>Norway</td>\n",
       "      <td>2005</td>\n",
       "      <td>80.041463</td>\n",
       "    </tr>\n",
       "    <tr>\n",
       "      <th>15467</th>\n",
       "      <td>Chile</td>\n",
       "      <td>2018</td>\n",
       "      <td>80.042000</td>\n",
       "    </tr>\n",
       "    <tr>\n",
       "      <th>11742</th>\n",
       "      <td>Channel Islands</td>\n",
       "      <td>2004</td>\n",
       "      <td>80.045000</td>\n",
       "    </tr>\n",
       "    <tr>\n",
       "      <th>...</th>\n",
       "      <td>...</td>\n",
       "      <td>...</td>\n",
       "      <td>...</td>\n",
       "    </tr>\n",
       "    <tr>\n",
       "      <th>16079</th>\n",
       "      <td>Japan</td>\n",
       "      <td>2020</td>\n",
       "      <td>84.615610</td>\n",
       "    </tr>\n",
       "    <tr>\n",
       "      <th>15258</th>\n",
       "      <td>Hong Kong SAR, China</td>\n",
       "      <td>2017</td>\n",
       "      <td>84.680488</td>\n",
       "    </tr>\n",
       "    <tr>\n",
       "      <th>15524</th>\n",
       "      <td>Hong Kong SAR, China</td>\n",
       "      <td>2018</td>\n",
       "      <td>84.934146</td>\n",
       "    </tr>\n",
       "    <tr>\n",
       "      <th>15790</th>\n",
       "      <td>Hong Kong SAR, China</td>\n",
       "      <td>2019</td>\n",
       "      <td>85.078049</td>\n",
       "    </tr>\n",
       "    <tr>\n",
       "      <th>16056</th>\n",
       "      <td>Hong Kong SAR, China</td>\n",
       "      <td>2020</td>\n",
       "      <td>85.387805</td>\n",
       "    </tr>\n",
       "  </tbody>\n",
       "</table>\n",
       "<p>562 rows × 3 columns</p>\n",
       "</div>"
      ],
      "text/plain": [
       "                    Country  Year  Life_Expectancy\n",
       "15343          OECD members  2017        80.005170\n",
       "13051               Belgium  2009        80.034146\n",
       "12147                Norway  2005        80.041463\n",
       "15467                 Chile  2018        80.042000\n",
       "11742       Channel Islands  2004        80.045000\n",
       "...                     ...   ...              ...\n",
       "16079                 Japan  2020        84.615610\n",
       "15258  Hong Kong SAR, China  2017        84.680488\n",
       "15524  Hong Kong SAR, China  2018        84.934146\n",
       "15790  Hong Kong SAR, China  2019        85.078049\n",
       "16056  Hong Kong SAR, China  2020        85.387805\n",
       "\n",
       "[562 rows x 3 columns]"
      ]
     },
     "execution_count": 279,
     "metadata": {},
     "output_type": "execute_result"
    }
   ],
   "source": [
    "life_expectancy[life_expectancy[\"Life_Expectancy\"] > 80].sort_values(by=[\"Life_Expectancy\"], ascending=True) "
   ]
  },
  {
   "cell_type": "code",
   "execution_count": 280,
   "id": "7649620b",
   "metadata": {},
   "outputs": [
    {
     "data": {
      "text/plain": [
       "'Japan'"
      ]
     },
     "execution_count": 280,
     "metadata": {},
     "output_type": "execute_result"
    }
   ],
   "source": [
    "life_expectancy[life_expectancy['Life_Expectancy']>80].iloc[0]['Country'] "
   ]
  },
  {
   "cell_type": "markdown",
   "id": "ef65a7e5",
   "metadata": {},
   "source": [
    "24. Merge `gdp_df` and `life_expectancy`, keeping all countries and years that appear in both DataFrames. Save the result to a new DataFrame named `gdp_le`. If you get any errors in doing this, read them carefully and correct them. Look at the first five rows of your new data frame to confirm it merged correctly. Also, check the last five rows to make sure the data is clean and as expected."
   ]
  },
  {
   "cell_type": "code",
   "execution_count": 281,
   "id": "b6fd00bd",
   "metadata": {},
   "outputs": [
    {
     "data": {
      "text/html": [
       "<div>\n",
       "<style scoped>\n",
       "    .dataframe tbody tr th:only-of-type {\n",
       "        vertical-align: middle;\n",
       "    }\n",
       "\n",
       "    .dataframe tbody tr th {\n",
       "        vertical-align: top;\n",
       "    }\n",
       "\n",
       "    .dataframe thead th {\n",
       "        text-align: right;\n",
       "    }\n",
       "</style>\n",
       "<table border=\"1\" class=\"dataframe\">\n",
       "  <thead>\n",
       "    <tr style=\"text-align: right;\">\n",
       "      <th></th>\n",
       "      <th>Country</th>\n",
       "      <th>Year</th>\n",
       "      <th>GDP_Per_Capita</th>\n",
       "      <th>Continent</th>\n",
       "    </tr>\n",
       "  </thead>\n",
       "  <tbody>\n",
       "    <tr>\n",
       "      <th>0</th>\n",
       "      <td>Afghanistan</td>\n",
       "      <td>2019</td>\n",
       "      <td>2065.036398</td>\n",
       "      <td>Asia</td>\n",
       "    </tr>\n",
       "    <tr>\n",
       "      <th>1</th>\n",
       "      <td>Afghanistan</td>\n",
       "      <td>2018</td>\n",
       "      <td>2033.779002</td>\n",
       "      <td>Asia</td>\n",
       "    </tr>\n",
       "  </tbody>\n",
       "</table>\n",
       "</div>"
      ],
      "text/plain": [
       "       Country  Year  GDP_Per_Capita Continent\n",
       "0  Afghanistan  2019     2065.036398      Asia\n",
       "1  Afghanistan  2018     2033.779002      Asia"
      ]
     },
     "execution_count": 281,
     "metadata": {},
     "output_type": "execute_result"
    }
   ],
   "source": [
    "gdp_df.head(2)"
   ]
  },
  {
   "cell_type": "code",
   "execution_count": 282,
   "id": "6d45d280",
   "metadata": {},
   "outputs": [
    {
     "data": {
      "text/html": [
       "<div>\n",
       "<style scoped>\n",
       "    .dataframe tbody tr th:only-of-type {\n",
       "        vertical-align: middle;\n",
       "    }\n",
       "\n",
       "    .dataframe tbody tr th {\n",
       "        vertical-align: top;\n",
       "    }\n",
       "\n",
       "    .dataframe thead th {\n",
       "        text-align: right;\n",
       "    }\n",
       "</style>\n",
       "<table border=\"1\" class=\"dataframe\">\n",
       "  <thead>\n",
       "    <tr style=\"text-align: right;\">\n",
       "      <th></th>\n",
       "      <th>Country</th>\n",
       "      <th>Year</th>\n",
       "      <th>Life_Expectancy</th>\n",
       "    </tr>\n",
       "  </thead>\n",
       "  <tbody>\n",
       "    <tr>\n",
       "      <th>0</th>\n",
       "      <td>Aruba</td>\n",
       "      <td>1960</td>\n",
       "      <td>65.662000</td>\n",
       "    </tr>\n",
       "    <tr>\n",
       "      <th>1</th>\n",
       "      <td>Africa Eastern and Southern</td>\n",
       "      <td>1960</td>\n",
       "      <td>42.716053</td>\n",
       "    </tr>\n",
       "  </tbody>\n",
       "</table>\n",
       "</div>"
      ],
      "text/plain": [
       "                       Country  Year  Life_Expectancy\n",
       "0                        Aruba  1960        65.662000\n",
       "1  Africa Eastern and Southern  1960        42.716053"
      ]
     },
     "execution_count": 282,
     "metadata": {},
     "output_type": "execute_result"
    }
   ],
   "source": [
    "life_expectancy.head(2)"
   ]
  },
  {
   "cell_type": "code",
   "execution_count": 283,
   "id": "2ce58307",
   "metadata": {},
   "outputs": [
    {
     "name": "stdout",
     "output_type": "stream",
     "text": [
      "<class 'pandas.core.frame.DataFrame'>\n",
      "Int64Index: 5443 entries, 0 to 5442\n",
      "Data columns (total 4 columns):\n",
      " #   Column          Non-Null Count  Dtype  \n",
      "---  ------          --------------  -----  \n",
      " 0   Country         5443 non-null   object \n",
      " 1   Year            5443 non-null   int64  \n",
      " 2   GDP_Per_Capita  5443 non-null   float64\n",
      " 3   Continent       5443 non-null   object \n",
      "dtypes: float64(1), int64(1), object(2)\n",
      "memory usage: 212.6+ KB\n"
     ]
    }
   ],
   "source": [
    "gdp_df.info()"
   ]
  },
  {
   "cell_type": "code",
   "execution_count": 285,
   "id": "142bf5f4",
   "metadata": {},
   "outputs": [],
   "source": [
    "life_expectancy['Year'] = life_expectancy['Year'].astype(int)"
   ]
  },
  {
   "cell_type": "code",
   "execution_count": 286,
   "id": "40f2743e",
   "metadata": {},
   "outputs": [
    {
     "name": "stdout",
     "output_type": "stream",
     "text": [
      "<class 'pandas.core.frame.DataFrame'>\n",
      "RangeIndex: 16492 entries, 0 to 16491\n",
      "Data columns (total 3 columns):\n",
      " #   Column           Non-Null Count  Dtype  \n",
      "---  ------           --------------  -----  \n",
      " 0   Country          16492 non-null  object \n",
      " 1   Year             16492 non-null  int64  \n",
      " 2   Life_Expectancy  14858 non-null  float64\n",
      "dtypes: float64(1), int64(1), object(1)\n",
      "memory usage: 386.7+ KB\n"
     ]
    }
   ],
   "source": [
    "life_expectancy.info()"
   ]
  },
  {
   "cell_type": "code",
   "execution_count": 290,
   "id": "31af1e02",
   "metadata": {},
   "outputs": [],
   "source": [
    "gdp_le = pd.merge(\n",
    "    left = gdp_df,\n",
    "    right = life_expectancy,\n",
    ")"
   ]
  },
  {
   "cell_type": "markdown",
   "id": "5bfaabf6",
   "metadata": {},
   "source": [
    "25. Create a new DataFrame, named `gdp_le_2019` by extracting data for the year 2019 from `gdp_le`. How many countries have a life expectancy of at least 80 in 2019?"
   ]
  },
  {
   "cell_type": "code",
   "execution_count": 291,
   "id": "e485b2ba",
   "metadata": {},
   "outputs": [
    {
     "data": {
      "text/html": [
       "<div>\n",
       "<style scoped>\n",
       "    .dataframe tbody tr th:only-of-type {\n",
       "        vertical-align: middle;\n",
       "    }\n",
       "\n",
       "    .dataframe tbody tr th {\n",
       "        vertical-align: top;\n",
       "    }\n",
       "\n",
       "    .dataframe thead th {\n",
       "        text-align: right;\n",
       "    }\n",
       "</style>\n",
       "<table border=\"1\" class=\"dataframe\">\n",
       "  <thead>\n",
       "    <tr style=\"text-align: right;\">\n",
       "      <th></th>\n",
       "      <th>Country</th>\n",
       "      <th>Year</th>\n",
       "      <th>GDP_Per_Capita</th>\n",
       "      <th>Continent</th>\n",
       "      <th>Life_Expectancy</th>\n",
       "    </tr>\n",
       "  </thead>\n",
       "  <tbody>\n",
       "    <tr>\n",
       "      <th>0</th>\n",
       "      <td>Afghanistan</td>\n",
       "      <td>2019</td>\n",
       "      <td>2065.036398</td>\n",
       "      <td>Asia</td>\n",
       "      <td>64.833</td>\n",
       "    </tr>\n",
       "    <tr>\n",
       "      <th>18</th>\n",
       "      <td>Albania</td>\n",
       "      <td>2019</td>\n",
       "      <td>13724.058790</td>\n",
       "      <td>Europe</td>\n",
       "      <td>78.573</td>\n",
       "    </tr>\n",
       "    <tr>\n",
       "      <th>48</th>\n",
       "      <td>Algeria</td>\n",
       "      <td>2019</td>\n",
       "      <td>11510.557088</td>\n",
       "      <td>Africa</td>\n",
       "      <td>76.880</td>\n",
       "    </tr>\n",
       "    <tr>\n",
       "      <th>78</th>\n",
       "      <td>Angola</td>\n",
       "      <td>2019</td>\n",
       "      <td>6670.332297</td>\n",
       "      <td>Africa</td>\n",
       "      <td>61.147</td>\n",
       "    </tr>\n",
       "    <tr>\n",
       "      <th>108</th>\n",
       "      <td>Antigua and Barbuda</td>\n",
       "      <td>2019</td>\n",
       "      <td>21910.184985</td>\n",
       "      <td>North America</td>\n",
       "      <td>77.016</td>\n",
       "    </tr>\n",
       "    <tr>\n",
       "      <th>...</th>\n",
       "      <td>...</td>\n",
       "      <td>...</td>\n",
       "      <td>...</td>\n",
       "      <td>...</td>\n",
       "      <td>...</td>\n",
       "    </tr>\n",
       "    <tr>\n",
       "      <th>4968</th>\n",
       "      <td>Vanuatu</td>\n",
       "      <td>2019</td>\n",
       "      <td>3153.015168</td>\n",
       "      <td>Oceania</td>\n",
       "      <td>70.474</td>\n",
       "    </tr>\n",
       "    <tr>\n",
       "      <th>4998</th>\n",
       "      <td>Vietnam</td>\n",
       "      <td>2019</td>\n",
       "      <td>8041.178551</td>\n",
       "      <td>Asia</td>\n",
       "      <td>75.400</td>\n",
       "    </tr>\n",
       "    <tr>\n",
       "      <th>5028</th>\n",
       "      <td>West Bank and Gaza</td>\n",
       "      <td>2019</td>\n",
       "      <td>6219.960291</td>\n",
       "      <td>Asia</td>\n",
       "      <td>74.053</td>\n",
       "    </tr>\n",
       "    <tr>\n",
       "      <th>5054</th>\n",
       "      <td>Zambia</td>\n",
       "      <td>2019</td>\n",
       "      <td>3470.448801</td>\n",
       "      <td>Africa</td>\n",
       "      <td>63.886</td>\n",
       "    </tr>\n",
       "    <tr>\n",
       "      <th>5084</th>\n",
       "      <td>Zimbabwe</td>\n",
       "      <td>2019</td>\n",
       "      <td>2835.948532</td>\n",
       "      <td>Africa</td>\n",
       "      <td>61.490</td>\n",
       "    </tr>\n",
       "  </tbody>\n",
       "</table>\n",
       "<p>172 rows × 5 columns</p>\n",
       "</div>"
      ],
      "text/plain": [
       "                  Country  Year  GDP_Per_Capita      Continent  \\\n",
       "0             Afghanistan  2019     2065.036398           Asia   \n",
       "18                Albania  2019    13724.058790         Europe   \n",
       "48                Algeria  2019    11510.557088         Africa   \n",
       "78                 Angola  2019     6670.332297         Africa   \n",
       "108   Antigua and Barbuda  2019    21910.184985  North America   \n",
       "...                   ...   ...             ...            ...   \n",
       "4968              Vanuatu  2019     3153.015168        Oceania   \n",
       "4998              Vietnam  2019     8041.178551           Asia   \n",
       "5028   West Bank and Gaza  2019     6219.960291           Asia   \n",
       "5054               Zambia  2019     3470.448801         Africa   \n",
       "5084             Zimbabwe  2019     2835.948532         Africa   \n",
       "\n",
       "      Life_Expectancy  \n",
       "0              64.833  \n",
       "18             78.573  \n",
       "48             76.880  \n",
       "78             61.147  \n",
       "108            77.016  \n",
       "...               ...  \n",
       "4968           70.474  \n",
       "4998           75.400  \n",
       "5028           74.053  \n",
       "5054           63.886  \n",
       "5084           61.490  \n",
       "\n",
       "[172 rows x 5 columns]"
      ]
     },
     "execution_count": 291,
     "metadata": {},
     "output_type": "execute_result"
    }
   ],
   "source": [
    "gdp_le_2019 = gdp_le[gdp_le['Year'] == 2019]\n",
    "gdp_le_2019"
   ]
  },
  {
   "cell_type": "code",
   "execution_count": 293,
   "id": "6985084c",
   "metadata": {},
   "outputs": [
    {
     "data": {
      "text/plain": [
       "33"
      ]
     },
     "execution_count": 293,
     "metadata": {},
     "output_type": "execute_result"
    }
   ],
   "source": [
    "(gdp_le_2019['Life_Expectancy'] >= 80).sum()"
   ]
  },
  {
   "cell_type": "markdown",
   "id": "d890deaf",
   "metadata": {},
   "source": [
    "26. Find the countries that had the top 3 largest GDP per capita figures for 2019. Create a seaborn FacetGrid showing the change in life expectancy over time for these three countries. Each individual figure in the facet grid will represent a single country."
   ]
  },
  {
   "cell_type": "code",
   "execution_count": 298,
   "id": "25870031",
   "metadata": {},
   "outputs": [
    {
     "data": {
      "text/plain": [
       "['Macao SAR, China', 'Luxembourg', 'Singapore']"
      ]
     },
     "execution_count": 298,
     "metadata": {},
     "output_type": "execute_result"
    }
   ],
   "source": [
    "top_3_gdp = gdp_le_2019.nlargest(3, 'GDP_Per_Capita')['Country'].to_list()\n",
    "top_3_gdp"
   ]
  },
  {
   "cell_type": "code",
   "execution_count": 304,
   "id": "91b24de9",
   "metadata": {},
   "outputs": [
    {
     "data": {
      "image/png": "[encoded data removed]",
      "text/plain": [
       "<Figure size 900x300 with 3 Axes>"
      ]
     },
     "metadata": {},
     "output_type": "display_data"
    }
   ],
   "source": [
    "g = sns.FacetGrid(data = gdp_le[gdp_le['Country'].isin(top_3_gdp)],\n",
    "             col = 'Country')\n",
    "g.map(sns.scatterplot, 'Year', 'Life_Expectancy');"
   ]
  },
  {
   "cell_type": "markdown",
   "id": "06b51c08",
   "metadata": {},
   "source": [
    "27. Create a scatter plot of Life Expectancy vs GDP per Capita for the year 2019. What do you notice?"
   ]
  },
  {
   "cell_type": "code",
   "execution_count": 312,
   "id": "3dbe2f93",
   "metadata": {},
   "outputs": [
    {
     "data": {
      "image/png": "[encoded data removed]",
      "text/plain": [
       "<Figure size 640x480 with 1 Axes>"
      ]
     },
     "metadata": {},
     "output_type": "display_data"
    }
   ],
   "source": [
    "gdp_le_2019.plot(kind = 'scatter', x = 'GDP_Per_Capita', y = 'Life_Expectancy');"
   ]
  },
  {
   "cell_type": "code",
   "execution_count": 307,
   "id": "1edda194",
   "metadata": {},
   "outputs": [
    {
     "data": {
      "image/png": "[encoded data removed]",
      "text/plain": [
       "<Figure size 1200x800 with 1 Axes>"
      ]
     },
     "metadata": {},
     "output_type": "display_data"
    }
   ],
   "source": [
    "plt.figure(figsize = (12,8))\n",
    "sns.scatterplot(data = gdp_le_2019, x = 'Life_Expectancy', y = 'GDP_Per_Capita',\n",
    "hue = 'Continent', palette = 'Reds', edgecolor = 'black')\n",
    "plt.title('Life expectancy vs. GDP_Per_Capita, 2019')\n",
    "plt.grid(True)\n",
    "plt.legend(bbox_to_anchor =(1.0, 1.0)); "
   ]
  },
  {
   "cell_type": "markdown",
   "id": "bae95dca",
   "metadata": {},
   "source": [
    "28. Find the correlation between Life Expectancy and GDP per Capita for the year 2019. What is the meaning of this number?"
   ]
  },
  {
   "cell_type": "code",
   "execution_count": 311,
   "id": "5f3413f0",
   "metadata": {},
   "outputs": [
    {
     "data": {
      "text/html": [
       "<div>\n",
       "<style scoped>\n",
       "    .dataframe tbody tr th:only-of-type {\n",
       "        vertical-align: middle;\n",
       "    }\n",
       "\n",
       "    .dataframe tbody tr th {\n",
       "        vertical-align: top;\n",
       "    }\n",
       "\n",
       "    .dataframe thead th {\n",
       "        text-align: right;\n",
       "    }\n",
       "</style>\n",
       "<table border=\"1\" class=\"dataframe\">\n",
       "  <thead>\n",
       "    <tr style=\"text-align: right;\">\n",
       "      <th></th>\n",
       "      <th>GDP_Per_Capita</th>\n",
       "      <th>Life_Expectancy</th>\n",
       "    </tr>\n",
       "  </thead>\n",
       "  <tbody>\n",
       "    <tr>\n",
       "      <th>GDP_Per_Capita</th>\n",
       "      <td>1.000000</td>\n",
       "      <td>0.709018</td>\n",
       "    </tr>\n",
       "    <tr>\n",
       "      <th>Life_Expectancy</th>\n",
       "      <td>0.709018</td>\n",
       "      <td>1.000000</td>\n",
       "    </tr>\n",
       "  </tbody>\n",
       "</table>\n",
       "</div>"
      ],
      "text/plain": [
       "                 GDP_Per_Capita  Life_Expectancy\n",
       "GDP_Per_Capita         1.000000         0.709018\n",
       "Life_Expectancy        0.709018         1.000000"
      ]
     },
     "execution_count": 311,
     "metadata": {},
     "output_type": "execute_result"
    }
   ],
   "source": [
    "gdp_le_2019[['GDP_Per_Capita', 'Life_Expectancy']].corr()"
   ]
  },
  {
   "cell_type": "markdown",
   "id": "71cf7bfe",
   "metadata": {},
   "source": [
    "29. Add a column to `gdp_le_2019` and calculate the logarithm of GDP per capita. Find the correlation between the log of GDP per capita and life expectancy. How does this compare to the calculation in the previous part? Look at a scatter plot to see if the result of this calculation makes sense."
   ]
  },
  {
   "cell_type": "code",
   "execution_count": 322,
   "id": "e454bf41",
   "metadata": {},
   "outputs": [
    {
     "name": "stderr",
     "output_type": "stream",
     "text": [
      "/tmp/ipykernel_63345/2740929984.py:1: SettingWithCopyWarning: \n",
      "A value is trying to be set on a copy of a slice from a DataFrame.\n",
      "Try using .loc[row_indexer,col_indexer] = value instead\n",
      "\n",
      "See the caveats in the documentation: https://pandas.pydata.org/pandas-docs/stable/user_guide/indexing.html#returning-a-view-versus-a-copy\n",
      "  gdp_le_2019['log_gdp'] = np.log(gdp_le_2019['GDP_Per_Capita'])\n"
     ]
    }
   ],
   "source": [
    "gdp_le_2019['log_gdp'] = np.log(gdp_le_2019['GDP_Per_Capita'])"
   ]
  },
  {
   "cell_type": "code",
   "execution_count": 319,
   "id": "c3daf0b3",
   "metadata": {},
   "outputs": [
    {
     "data": {
      "text/html": [
       "<div>\n",
       "<style scoped>\n",
       "    .dataframe tbody tr th:only-of-type {\n",
       "        vertical-align: middle;\n",
       "    }\n",
       "\n",
       "    .dataframe tbody tr th {\n",
       "        vertical-align: top;\n",
       "    }\n",
       "\n",
       "    .dataframe thead th {\n",
       "        text-align: right;\n",
       "    }\n",
       "</style>\n",
       "<table border=\"1\" class=\"dataframe\">\n",
       "  <thead>\n",
       "    <tr style=\"text-align: right;\">\n",
       "      <th></th>\n",
       "      <th>Country</th>\n",
       "      <th>Year</th>\n",
       "      <th>GDP_Per_Capita</th>\n",
       "      <th>Continent</th>\n",
       "      <th>Life_Expectancy</th>\n",
       "      <th>log_gdp</th>\n",
       "    </tr>\n",
       "  </thead>\n",
       "  <tbody>\n",
       "    <tr>\n",
       "      <th>0</th>\n",
       "      <td>Afghanistan</td>\n",
       "      <td>2019</td>\n",
       "      <td>2065.036398</td>\n",
       "      <td>Asia</td>\n",
       "      <td>64.833</td>\n",
       "      <td>3.314928</td>\n",
       "    </tr>\n",
       "    <tr>\n",
       "      <th>18</th>\n",
       "      <td>Albania</td>\n",
       "      <td>2019</td>\n",
       "      <td>13724.058790</td>\n",
       "      <td>Europe</td>\n",
       "      <td>78.573</td>\n",
       "      <td>4.137483</td>\n",
       "    </tr>\n",
       "    <tr>\n",
       "      <th>48</th>\n",
       "      <td>Algeria</td>\n",
       "      <td>2019</td>\n",
       "      <td>11510.557088</td>\n",
       "      <td>Africa</td>\n",
       "      <td>76.880</td>\n",
       "      <td>4.061096</td>\n",
       "    </tr>\n",
       "    <tr>\n",
       "      <th>78</th>\n",
       "      <td>Angola</td>\n",
       "      <td>2019</td>\n",
       "      <td>6670.332297</td>\n",
       "      <td>Africa</td>\n",
       "      <td>61.147</td>\n",
       "      <td>3.824147</td>\n",
       "    </tr>\n",
       "    <tr>\n",
       "      <th>108</th>\n",
       "      <td>Antigua and Barbuda</td>\n",
       "      <td>2019</td>\n",
       "      <td>21910.184985</td>\n",
       "      <td>North America</td>\n",
       "      <td>77.016</td>\n",
       "      <td>4.340646</td>\n",
       "    </tr>\n",
       "    <tr>\n",
       "      <th>...</th>\n",
       "      <td>...</td>\n",
       "      <td>...</td>\n",
       "      <td>...</td>\n",
       "      <td>...</td>\n",
       "      <td>...</td>\n",
       "      <td>...</td>\n",
       "    </tr>\n",
       "    <tr>\n",
       "      <th>4968</th>\n",
       "      <td>Vanuatu</td>\n",
       "      <td>2019</td>\n",
       "      <td>3153.015168</td>\n",
       "      <td>Oceania</td>\n",
       "      <td>70.474</td>\n",
       "      <td>3.498726</td>\n",
       "    </tr>\n",
       "    <tr>\n",
       "      <th>4998</th>\n",
       "      <td>Vietnam</td>\n",
       "      <td>2019</td>\n",
       "      <td>8041.178551</td>\n",
       "      <td>Asia</td>\n",
       "      <td>75.400</td>\n",
       "      <td>3.905320</td>\n",
       "    </tr>\n",
       "    <tr>\n",
       "      <th>5028</th>\n",
       "      <td>West Bank and Gaza</td>\n",
       "      <td>2019</td>\n",
       "      <td>6219.960291</td>\n",
       "      <td>Asia</td>\n",
       "      <td>74.053</td>\n",
       "      <td>3.793788</td>\n",
       "    </tr>\n",
       "    <tr>\n",
       "      <th>5054</th>\n",
       "      <td>Zambia</td>\n",
       "      <td>2019</td>\n",
       "      <td>3470.448801</td>\n",
       "      <td>Africa</td>\n",
       "      <td>63.886</td>\n",
       "      <td>3.540386</td>\n",
       "    </tr>\n",
       "    <tr>\n",
       "      <th>5084</th>\n",
       "      <td>Zimbabwe</td>\n",
       "      <td>2019</td>\n",
       "      <td>2835.948532</td>\n",
       "      <td>Africa</td>\n",
       "      <td>61.490</td>\n",
       "      <td>3.452698</td>\n",
       "    </tr>\n",
       "  </tbody>\n",
       "</table>\n",
       "<p>172 rows × 6 columns</p>\n",
       "</div>"
      ],
      "text/plain": [
       "                  Country  Year  GDP_Per_Capita      Continent  \\\n",
       "0             Afghanistan  2019     2065.036398           Asia   \n",
       "18                Albania  2019    13724.058790         Europe   \n",
       "48                Algeria  2019    11510.557088         Africa   \n",
       "78                 Angola  2019     6670.332297         Africa   \n",
       "108   Antigua and Barbuda  2019    21910.184985  North America   \n",
       "...                   ...   ...             ...            ...   \n",
       "4968              Vanuatu  2019     3153.015168        Oceania   \n",
       "4998              Vietnam  2019     8041.178551           Asia   \n",
       "5028   West Bank and Gaza  2019     6219.960291           Asia   \n",
       "5054               Zambia  2019     3470.448801         Africa   \n",
       "5084             Zimbabwe  2019     2835.948532         Africa   \n",
       "\n",
       "      Life_Expectancy   log_gdp  \n",
       "0              64.833  3.314928  \n",
       "18             78.573  4.137483  \n",
       "48             76.880  4.061096  \n",
       "78             61.147  3.824147  \n",
       "108            77.016  4.340646  \n",
       "...               ...       ...  \n",
       "4968           70.474  3.498726  \n",
       "4998           75.400  3.905320  \n",
       "5028           74.053  3.793788  \n",
       "5054           63.886  3.540386  \n",
       "5084           61.490  3.452698  \n",
       "\n",
       "[172 rows x 6 columns]"
      ]
     },
     "execution_count": 319,
     "metadata": {},
     "output_type": "execute_result"
    }
   ],
   "source": [
    "gdp_le_2019"
   ]
  },
  {
   "cell_type": "code",
   "execution_count": 320,
   "id": "0422384c",
   "metadata": {},
   "outputs": [
    {
     "data": {
      "text/html": [
       "<div>\n",
       "<style scoped>\n",
       "    .dataframe tbody tr th:only-of-type {\n",
       "        vertical-align: middle;\n",
       "    }\n",
       "\n",
       "    .dataframe tbody tr th {\n",
       "        vertical-align: top;\n",
       "    }\n",
       "\n",
       "    .dataframe thead th {\n",
       "        text-align: right;\n",
       "    }\n",
       "</style>\n",
       "<table border=\"1\" class=\"dataframe\">\n",
       "  <thead>\n",
       "    <tr style=\"text-align: right;\">\n",
       "      <th></th>\n",
       "      <th>Year</th>\n",
       "      <th>GDP_Per_Capita</th>\n",
       "      <th>Life_Expectancy</th>\n",
       "      <th>log_gdp</th>\n",
       "    </tr>\n",
       "  </thead>\n",
       "  <tbody>\n",
       "    <tr>\n",
       "      <th>Year</th>\n",
       "      <td>NaN</td>\n",
       "      <td>NaN</td>\n",
       "      <td>NaN</td>\n",
       "      <td>NaN</td>\n",
       "    </tr>\n",
       "    <tr>\n",
       "      <th>GDP_Per_Capita</th>\n",
       "      <td>NaN</td>\n",
       "      <td>1.000000</td>\n",
       "      <td>0.709018</td>\n",
       "      <td>0.850396</td>\n",
       "    </tr>\n",
       "    <tr>\n",
       "      <th>Life_Expectancy</th>\n",
       "      <td>NaN</td>\n",
       "      <td>0.709018</td>\n",
       "      <td>1.000000</td>\n",
       "      <td>0.848498</td>\n",
       "    </tr>\n",
       "    <tr>\n",
       "      <th>log_gdp</th>\n",
       "      <td>NaN</td>\n",
       "      <td>0.850396</td>\n",
       "      <td>0.848498</td>\n",
       "      <td>1.000000</td>\n",
       "    </tr>\n",
       "  </tbody>\n",
       "</table>\n",
       "</div>"
      ],
      "text/plain": [
       "                 Year  GDP_Per_Capita  Life_Expectancy   log_gdp\n",
       "Year              NaN             NaN              NaN       NaN\n",
       "GDP_Per_Capita    NaN        1.000000         0.709018  0.850396\n",
       "Life_Expectancy   NaN        0.709018         1.000000  0.848498\n",
       "log_gdp           NaN        0.850396         0.848498  1.000000"
      ]
     },
     "execution_count": 320,
     "metadata": {},
     "output_type": "execute_result"
    }
   ],
   "source": [
    "gdp_le_2019.corr()"
   ]
  },
  {
   "cell_type": "code",
   "execution_count": 323,
   "id": "a6261bc8",
   "metadata": {},
   "outputs": [
    {
     "data": {
      "image/png": "[encoded data removed]",
      "text/plain": [
       "<Figure size 640x480 with 1 Axes>"
      ]
     },
     "metadata": {},
     "output_type": "display_data"
    }
   ],
   "source": [
    "gdp_le_2019.plot(kind = 'scatter', x = 'log_gdp', y = 'Life_Expectancy');"
   ]
  },
  {
   "cell_type": "code",
   "execution_count": null,
   "id": "1b77dde0",
   "metadata": {},
   "outputs": [],
   "source": []
  }
 ],
 "metadata": {
  "kernelspec": {
   "display_name": "Python 3 (ipykernel)",
   "language": "python",
   "name": "python3"
  },
  "language_info": {
   "codemirror_mode": {
    "name": "ipython",
    "version": 3
   },
   "file_extension": ".py",
   "mimetype": "text/x-python",
   "name": "python",
   "nbconvert_exporter": "python",
   "pygments_lexer": "ipython3",
   "version": "3.8.13"
  }
 },
 "nbformat": 4,
 "nbformat_minor": 5
}
